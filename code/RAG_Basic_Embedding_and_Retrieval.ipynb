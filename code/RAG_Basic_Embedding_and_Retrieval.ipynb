{
 "cells": [
  {
   "cell_type": "code",
   "execution_count": 1,
   "id": "2e42acf0",
   "metadata": {},
   "outputs": [],
   "source": [
    "#installation and import statements\n",
    "from __future__ import annotations\n",
    "import numpy as np\n",
    "import time\n",
    "import lancedb # our vector database\n",
    "from lancedb.embeddings import get_registry #embedding registry\n",
    "from lancedb.pydantic import LanceModel, Vector, pydantic_to_schema\n",
    "from lancedb.embeddings import TextEmbeddingFunction\n",
    "from datasets import load_dataset\n",
    "import pandas as pd\n",
    "import pyarrow as pa\n",
    "from tqdm.auto import tqdm\n",
    "from sentence_transformers import SentenceTransformer\n",
    "from datasets import load_dataset\n",
    "\n"
   ]
  },
  {
   "cell_type": "markdown",
   "id": "814834a9",
   "metadata": {},
   "source": [
    "# Get Dataset"
   ]
  },
  {
   "cell_type": "code",
   "execution_count": 2,
   "id": "0799c588",
   "metadata": {},
   "outputs": [
    {
     "name": "stdout",
     "output_type": "stream",
     "text": [
      "404686\n"
     ]
    }
   ],
   "source": [
    "data = pd.read_json(\"../AwareData/reddit.json\")\n",
    "data.head()\n",
    "print(len(data))"
   ]
  },
  {
   "cell_type": "code",
   "execution_count": 3,
   "id": "dbc2b73a",
   "metadata": {},
   "outputs": [],
   "source": [
    "data['text_and_title'] = [data.reddit_title.values[i] + ' [SEP] ' + data.reddit_text.values[i] if data.reddit_title.values[i] != None else data.reddit_text.values[i] for i in range(len(data))]"
   ]
  },
  {
   "cell_type": "code",
   "execution_count": 4,
   "id": "53df079f",
   "metadata": {},
   "outputs": [
    {
     "data": {
      "text/html": [
       "<div>\n",
       "<style scoped>\n",
       "    .dataframe tbody tr th:only-of-type {\n",
       "        vertical-align: middle;\n",
       "    }\n",
       "\n",
       "    .dataframe tbody tr th {\n",
       "        vertical-align: top;\n",
       "    }\n",
       "\n",
       "    .dataframe thead th {\n",
       "        text-align: right;\n",
       "    }\n",
       "</style>\n",
       "<table border=\"1\" class=\"dataframe\">\n",
       "  <thead>\n",
       "    <tr style=\"text-align: right;\">\n",
       "      <th></th>\n",
       "      <th>aware_post_type</th>\n",
       "      <th>aware_created_ts</th>\n",
       "      <th>reddit_id</th>\n",
       "      <th>reddit_name</th>\n",
       "      <th>reddit_created_utc</th>\n",
       "      <th>reddit_author</th>\n",
       "      <th>reddit_text</th>\n",
       "      <th>reddit_permalink</th>\n",
       "      <th>reddit_title</th>\n",
       "      <th>reddit_url</th>\n",
       "      <th>reddit_subreddit</th>\n",
       "      <th>reddit_link_id</th>\n",
       "      <th>reddit_parent_id</th>\n",
       "      <th>reddit_submission</th>\n",
       "      <th>text_and_title</th>\n",
       "    </tr>\n",
       "  </thead>\n",
       "  <tbody>\n",
       "    <tr>\n",
       "      <th>0</th>\n",
       "      <td>submission</td>\n",
       "      <td>2023-04-02T13:58:03</td>\n",
       "      <td>129sqka</td>\n",
       "      <td>t3_129sqka</td>\n",
       "      <td>1680458283</td>\n",
       "      <td>MoodyStarGirl</td>\n",
       "      <td>That's it.</td>\n",
       "      <td>/r/starbucks/comments/129sqka/hot_chai_lattes_...</td>\n",
       "      <td>Hot chai lattes shouldn't have water</td>\n",
       "      <td>https://www.reddit.com/r/starbucks/comments/12...</td>\n",
       "      <td>starbucks</td>\n",
       "      <td>None</td>\n",
       "      <td>None</td>\n",
       "      <td>None</td>\n",
       "      <td>Hot chai lattes shouldn't have water [SEP] Tha...</td>\n",
       "    </tr>\n",
       "    <tr>\n",
       "      <th>1</th>\n",
       "      <td>comment</td>\n",
       "      <td>2023-04-02T14:32:57</td>\n",
       "      <td>jeounwc</td>\n",
       "      <td>t1_jeounwc</td>\n",
       "      <td>1680460377</td>\n",
       "      <td>Lost_Treat_6296</td>\n",
       "      <td>We should make the chai tea latte with the sam...</td>\n",
       "      <td>/r/starbucks/comments/129sqka/hot_chai_lattes_...</td>\n",
       "      <td>None</td>\n",
       "      <td>None</td>\n",
       "      <td>starbucks</td>\n",
       "      <td>t3_129sqka</td>\n",
       "      <td>t3_129sqka</td>\n",
       "      <td>129sqka</td>\n",
       "      <td>We should make the chai tea latte with the sam...</td>\n",
       "    </tr>\n",
       "    <tr>\n",
       "      <th>2</th>\n",
       "      <td>comment</td>\n",
       "      <td>2023-04-02T14:48:18</td>\n",
       "      <td>jeowus2</td>\n",
       "      <td>t1_jeowus2</td>\n",
       "      <td>1680461298</td>\n",
       "      <td>MoodyStarGirl</td>\n",
       "      <td>Oh like using the chai tea bags?</td>\n",
       "      <td>/r/starbucks/comments/129sqka/hot_chai_lattes_...</td>\n",
       "      <td>None</td>\n",
       "      <td>None</td>\n",
       "      <td>starbucks</td>\n",
       "      <td>t3_129sqka</td>\n",
       "      <td>t1_jeounwc</td>\n",
       "      <td>129sqka</td>\n",
       "      <td>Oh like using the chai tea bags?</td>\n",
       "    </tr>\n",
       "    <tr>\n",
       "      <th>3</th>\n",
       "      <td>comment</td>\n",
       "      <td>2023-04-02T14:48:49</td>\n",
       "      <td>jeowxe5</td>\n",
       "      <td>t1_jeowxe5</td>\n",
       "      <td>1680461329</td>\n",
       "      <td>Lost_Treat_6296</td>\n",
       "      <td>No, the whole half water and half milk thing</td>\n",
       "      <td>/r/starbucks/comments/129sqka/hot_chai_lattes_...</td>\n",
       "      <td>None</td>\n",
       "      <td>None</td>\n",
       "      <td>starbucks</td>\n",
       "      <td>t3_129sqka</td>\n",
       "      <td>t1_jeowus2</td>\n",
       "      <td>129sqka</td>\n",
       "      <td>No, the whole half water and half milk thing</td>\n",
       "    </tr>\n",
       "    <tr>\n",
       "      <th>4</th>\n",
       "      <td>comment</td>\n",
       "      <td>2023-04-02T21:59:22</td>\n",
       "      <td>jeqiuw3</td>\n",
       "      <td>t1_jeqiuw3</td>\n",
       "      <td>1680487162</td>\n",
       "      <td>MoodyStarGirl</td>\n",
       "      <td>That's a lot of water :(</td>\n",
       "      <td>/r/starbucks/comments/129sqka/hot_chai_lattes_...</td>\n",
       "      <td>None</td>\n",
       "      <td>None</td>\n",
       "      <td>starbucks</td>\n",
       "      <td>t3_129sqka</td>\n",
       "      <td>t1_jeowxe5</td>\n",
       "      <td>129sqka</td>\n",
       "      <td>That's a lot of water :(</td>\n",
       "    </tr>\n",
       "  </tbody>\n",
       "</table>\n",
       "</div>"
      ],
      "text/plain": [
       "  aware_post_type     aware_created_ts reddit_id reddit_name  \\\n",
       "0      submission  2023-04-02T13:58:03   129sqka  t3_129sqka   \n",
       "1         comment  2023-04-02T14:32:57   jeounwc  t1_jeounwc   \n",
       "2         comment  2023-04-02T14:48:18   jeowus2  t1_jeowus2   \n",
       "3         comment  2023-04-02T14:48:49   jeowxe5  t1_jeowxe5   \n",
       "4         comment  2023-04-02T21:59:22   jeqiuw3  t1_jeqiuw3   \n",
       "\n",
       "   reddit_created_utc    reddit_author  \\\n",
       "0          1680458283    MoodyStarGirl   \n",
       "1          1680460377  Lost_Treat_6296   \n",
       "2          1680461298    MoodyStarGirl   \n",
       "3          1680461329  Lost_Treat_6296   \n",
       "4          1680487162    MoodyStarGirl   \n",
       "\n",
       "                                         reddit_text  \\\n",
       "0                                         That's it.   \n",
       "1  We should make the chai tea latte with the sam...   \n",
       "2                   Oh like using the chai tea bags?   \n",
       "3       No, the whole half water and half milk thing   \n",
       "4                           That's a lot of water :(   \n",
       "\n",
       "                                    reddit_permalink  \\\n",
       "0  /r/starbucks/comments/129sqka/hot_chai_lattes_...   \n",
       "1  /r/starbucks/comments/129sqka/hot_chai_lattes_...   \n",
       "2  /r/starbucks/comments/129sqka/hot_chai_lattes_...   \n",
       "3  /r/starbucks/comments/129sqka/hot_chai_lattes_...   \n",
       "4  /r/starbucks/comments/129sqka/hot_chai_lattes_...   \n",
       "\n",
       "                           reddit_title  \\\n",
       "0  Hot chai lattes shouldn't have water   \n",
       "1                                  None   \n",
       "2                                  None   \n",
       "3                                  None   \n",
       "4                                  None   \n",
       "\n",
       "                                          reddit_url reddit_subreddit  \\\n",
       "0  https://www.reddit.com/r/starbucks/comments/12...        starbucks   \n",
       "1                                               None        starbucks   \n",
       "2                                               None        starbucks   \n",
       "3                                               None        starbucks   \n",
       "4                                               None        starbucks   \n",
       "\n",
       "  reddit_link_id reddit_parent_id reddit_submission  \\\n",
       "0           None             None              None   \n",
       "1     t3_129sqka       t3_129sqka           129sqka   \n",
       "2     t3_129sqka       t1_jeounwc           129sqka   \n",
       "3     t3_129sqka       t1_jeowus2           129sqka   \n",
       "4     t3_129sqka       t1_jeowxe5           129sqka   \n",
       "\n",
       "                                      text_and_title  \n",
       "0  Hot chai lattes shouldn't have water [SEP] Tha...  \n",
       "1  We should make the chai tea latte with the sam...  \n",
       "2                   Oh like using the chai tea bags?  \n",
       "3       No, the whole half water and half milk thing  \n",
       "4                           That's a lot of water :(  "
      ]
     },
     "execution_count": 4,
     "metadata": {},
     "output_type": "execute_result"
    }
   ],
   "source": [
    "data.head()"
   ]
  },
  {
   "cell_type": "code",
   "execution_count": 5,
   "id": "de1a7c3d",
   "metadata": {},
   "outputs": [
    {
     "name": "stderr",
     "output_type": "stream",
     "text": [
      "/var/folders/db/q76d94y56zscb4zzdy5ffbm80000gn/T/ipykernel_74036/480915085.py:3: SettingWithCopyWarning: \n",
      "A value is trying to be set on a copy of a slice from a DataFrame.\n",
      "Try using .loc[row_indexer,col_indexer] = value instead\n",
      "\n",
      "See the caveats in the documentation: https://pandas.pydata.org/pandas-docs/stable/user_guide/indexing.html#returning-a-view-versus-a-copy\n",
      "  sb['id'] = np.arange(len(sb))\n"
     ]
    }
   ],
   "source": [
    "sb = data.loc[data['reddit_subreddit'].str.contains('starbucks')]\n",
    "len(sb)\n",
    "sb['id'] = np.arange(len(sb))"
   ]
  },
  {
   "cell_type": "markdown",
   "id": "5a7b23c4",
   "metadata": {},
   "source": [
    "# Connect to LanceDB and create table"
   ]
  },
  {
   "cell_type": "code",
   "execution_count": 6,
   "id": "d002ebb6",
   "metadata": {},
   "outputs": [],
   "source": [
    "db = lancedb.connect(\"~/.lancedb\")\n",
    "\n",
    "table = db.create_table(\"reddit\", sb, mode=\"overwrite\")\n"
   ]
  },
  {
   "cell_type": "markdown",
   "id": "8e20fc2b",
   "metadata": {},
   "source": [
    "# Embeddings\n",
    "1) Define the embedding function\n",
    "2) Define the embedding model or schema\n",
    "3) Create table and add data\n",
    "4) Query table"
   ]
  },
  {
   "cell_type": "markdown",
   "id": "27f161ec",
   "metadata": {},
   "source": [
    "## Define the embedding function"
   ]
  },
  {
   "cell_type": "code",
   "execution_count": 7,
   "id": "eebc5434",
   "metadata": {},
   "outputs": [],
   "source": [
    "model = SentenceTransformer(\"all-MiniLM-L6-v2\", device=\"cpu\")\n",
    "vectors = model.encode(sb.text_and_title.values.tolist(),\n",
    "                       convert_to_numpy=True,\n",
    "                       normalize_embeddings=True).tolist()"
   ]
  },
  {
   "cell_type": "code",
   "execution_count": 8,
   "id": "146449ec",
   "metadata": {},
   "outputs": [
    {
     "data": {
      "text/plain": [
       "[-0.014269034378230572,\n",
       " -0.040209949016571045,\n",
       " -0.020817002281546593,\n",
       " 0.005154069978743792,\n",
       " 0.022267308086156845,\n",
       " -0.06084483489394188,\n",
       " 0.058367032557725906,\n",
       " -0.06468523293733597,\n",
       " -0.04143567010760307,\n",
       " -0.04319833591580391]"
      ]
     },
     "execution_count": 8,
     "metadata": {},
     "output_type": "execute_result"
    }
   ],
   "source": [
    "vectors[0][0:10]"
   ]
  },
  {
   "cell_type": "markdown",
   "id": "a5dfd6e9",
   "metadata": {},
   "source": [
    "### Save embedding vectors to table"
   ]
  },
  {
   "cell_type": "code",
   "execution_count": 9,
   "id": "6da055c7",
   "metadata": {},
   "outputs": [
    {
     "data": {
      "text/html": [
       "<div>\n",
       "<style scoped>\n",
       "    .dataframe tbody tr th:only-of-type {\n",
       "        vertical-align: middle;\n",
       "    }\n",
       "\n",
       "    .dataframe tbody tr th {\n",
       "        vertical-align: top;\n",
       "    }\n",
       "\n",
       "    .dataframe thead th {\n",
       "        text-align: right;\n",
       "    }\n",
       "</style>\n",
       "<table border=\"1\" class=\"dataframe\">\n",
       "  <thead>\n",
       "    <tr style=\"text-align: right;\">\n",
       "      <th></th>\n",
       "      <th>vector</th>\n",
       "      <th>id</th>\n",
       "    </tr>\n",
       "  </thead>\n",
       "  <tbody>\n",
       "    <tr>\n",
       "      <th>0</th>\n",
       "      <td>[-0.014269034, -0.04020995, -0.020817002, 0.00...</td>\n",
       "      <td>1</td>\n",
       "    </tr>\n",
       "    <tr>\n",
       "      <th>1</th>\n",
       "      <td>[-0.049435094, -0.036684588, -0.03507152, -0.0...</td>\n",
       "      <td>2</td>\n",
       "    </tr>\n",
       "    <tr>\n",
       "      <th>2</th>\n",
       "      <td>[-0.049866207, 0.058588855, -0.045397144, 0.02...</td>\n",
       "      <td>3</td>\n",
       "    </tr>\n",
       "    <tr>\n",
       "      <th>3</th>\n",
       "      <td>[-0.011465802, 0.007062405, 0.06518951, 0.0355...</td>\n",
       "      <td>4</td>\n",
       "    </tr>\n",
       "    <tr>\n",
       "      <th>4</th>\n",
       "      <td>[0.026740449, 0.00762673, 0.07855508, 0.029588...</td>\n",
       "      <td>5</td>\n",
       "    </tr>\n",
       "  </tbody>\n",
       "</table>\n",
       "</div>"
      ],
      "text/plain": [
       "                                              vector  id\n",
       "0  [-0.014269034, -0.04020995, -0.020817002, 0.00...   1\n",
       "1  [-0.049435094, -0.036684588, -0.03507152, -0.0...   2\n",
       "2  [-0.049866207, 0.058588855, -0.045397144, 0.02...   3\n",
       "3  [-0.011465802, 0.007062405, 0.06518951, 0.0355...   4\n",
       "4  [0.026740449, 0.00762673, 0.07855508, 0.029588...   5"
      ]
     },
     "execution_count": 9,
     "metadata": {},
     "output_type": "execute_result"
    }
   ],
   "source": [
    "from lance.vector import vec_to_table\n",
    "import numpy as np\n",
    "import pyarrow as pa\n",
    "\n",
    "embeddings = vec_to_table(vectors)\n",
    "embeddings = embeddings.append_column(\"id\", pa.array(np.arange(len(table))+1))\n",
    "embeddings.to_pandas().head()"
   ]
  },
  {
   "cell_type": "code",
   "execution_count": 10,
   "id": "f7ec3c1a",
   "metadata": {},
   "outputs": [
    {
     "data": {
      "text/html": [
       "<div>\n",
       "<style scoped>\n",
       "    .dataframe tbody tr th:only-of-type {\n",
       "        vertical-align: middle;\n",
       "    }\n",
       "\n",
       "    .dataframe tbody tr th {\n",
       "        vertical-align: top;\n",
       "    }\n",
       "\n",
       "    .dataframe thead th {\n",
       "        text-align: right;\n",
       "    }\n",
       "</style>\n",
       "<table border=\"1\" class=\"dataframe\">\n",
       "  <thead>\n",
       "    <tr style=\"text-align: right;\">\n",
       "      <th></th>\n",
       "      <th>aware_post_type</th>\n",
       "      <th>aware_created_ts</th>\n",
       "      <th>reddit_id</th>\n",
       "      <th>reddit_name</th>\n",
       "      <th>reddit_created_utc</th>\n",
       "      <th>reddit_author</th>\n",
       "      <th>reddit_text</th>\n",
       "      <th>reddit_permalink</th>\n",
       "      <th>reddit_title</th>\n",
       "      <th>reddit_url</th>\n",
       "      <th>reddit_subreddit</th>\n",
       "      <th>reddit_link_id</th>\n",
       "      <th>reddit_parent_id</th>\n",
       "      <th>reddit_submission</th>\n",
       "      <th>text_and_title</th>\n",
       "      <th>id</th>\n",
       "      <th>vector</th>\n",
       "    </tr>\n",
       "  </thead>\n",
       "  <tbody>\n",
       "    <tr>\n",
       "      <th>0</th>\n",
       "      <td>submission</td>\n",
       "      <td>2023-04-02T13:58:03</td>\n",
       "      <td>129sqka</td>\n",
       "      <td>t3_129sqka</td>\n",
       "      <td>1680458283</td>\n",
       "      <td>MoodyStarGirl</td>\n",
       "      <td>That's it.</td>\n",
       "      <td>/r/starbucks/comments/129sqka/hot_chai_lattes_...</td>\n",
       "      <td>Hot chai lattes shouldn't have water</td>\n",
       "      <td>https://www.reddit.com/r/starbucks/comments/12...</td>\n",
       "      <td>starbucks</td>\n",
       "      <td>None</td>\n",
       "      <td>None</td>\n",
       "      <td>None</td>\n",
       "      <td>Hot chai lattes shouldn't have water [SEP] Tha...</td>\n",
       "      <td>0</td>\n",
       "      <td>[0.0, 0.0, 0.0, 0.0, 0.0, 0.0, 0.0, 0.0, 0.0, ...</td>\n",
       "    </tr>\n",
       "    <tr>\n",
       "      <th>1</th>\n",
       "      <td>comment</td>\n",
       "      <td>2023-04-02T14:32:57</td>\n",
       "      <td>jeounwc</td>\n",
       "      <td>t1_jeounwc</td>\n",
       "      <td>1680460377</td>\n",
       "      <td>Lost_Treat_6296</td>\n",
       "      <td>We should make the chai tea latte with the sam...</td>\n",
       "      <td>/r/starbucks/comments/129sqka/hot_chai_lattes_...</td>\n",
       "      <td>None</td>\n",
       "      <td>None</td>\n",
       "      <td>starbucks</td>\n",
       "      <td>t3_129sqka</td>\n",
       "      <td>t3_129sqka</td>\n",
       "      <td>129sqka</td>\n",
       "      <td>We should make the chai tea latte with the sam...</td>\n",
       "      <td>1</td>\n",
       "      <td>[-0.014269034, -0.04020995, -0.020817002, 0.00...</td>\n",
       "    </tr>\n",
       "    <tr>\n",
       "      <th>2</th>\n",
       "      <td>comment</td>\n",
       "      <td>2023-04-02T14:48:18</td>\n",
       "      <td>jeowus2</td>\n",
       "      <td>t1_jeowus2</td>\n",
       "      <td>1680461298</td>\n",
       "      <td>MoodyStarGirl</td>\n",
       "      <td>Oh like using the chai tea bags?</td>\n",
       "      <td>/r/starbucks/comments/129sqka/hot_chai_lattes_...</td>\n",
       "      <td>None</td>\n",
       "      <td>None</td>\n",
       "      <td>starbucks</td>\n",
       "      <td>t3_129sqka</td>\n",
       "      <td>t1_jeounwc</td>\n",
       "      <td>129sqka</td>\n",
       "      <td>Oh like using the chai tea bags?</td>\n",
       "      <td>2</td>\n",
       "      <td>[-0.049435094, -0.036684588, -0.03507152, -0.0...</td>\n",
       "    </tr>\n",
       "    <tr>\n",
       "      <th>3</th>\n",
       "      <td>comment</td>\n",
       "      <td>2023-04-02T14:48:49</td>\n",
       "      <td>jeowxe5</td>\n",
       "      <td>t1_jeowxe5</td>\n",
       "      <td>1680461329</td>\n",
       "      <td>Lost_Treat_6296</td>\n",
       "      <td>No, the whole half water and half milk thing</td>\n",
       "      <td>/r/starbucks/comments/129sqka/hot_chai_lattes_...</td>\n",
       "      <td>None</td>\n",
       "      <td>None</td>\n",
       "      <td>starbucks</td>\n",
       "      <td>t3_129sqka</td>\n",
       "      <td>t1_jeowus2</td>\n",
       "      <td>129sqka</td>\n",
       "      <td>No, the whole half water and half milk thing</td>\n",
       "      <td>3</td>\n",
       "      <td>[-0.049866207, 0.058588855, -0.045397144, 0.02...</td>\n",
       "    </tr>\n",
       "    <tr>\n",
       "      <th>4</th>\n",
       "      <td>comment</td>\n",
       "      <td>2023-04-02T21:59:22</td>\n",
       "      <td>jeqiuw3</td>\n",
       "      <td>t1_jeqiuw3</td>\n",
       "      <td>1680487162</td>\n",
       "      <td>MoodyStarGirl</td>\n",
       "      <td>That's a lot of water :(</td>\n",
       "      <td>/r/starbucks/comments/129sqka/hot_chai_lattes_...</td>\n",
       "      <td>None</td>\n",
       "      <td>None</td>\n",
       "      <td>starbucks</td>\n",
       "      <td>t3_129sqka</td>\n",
       "      <td>t1_jeowxe5</td>\n",
       "      <td>129sqka</td>\n",
       "      <td>That's a lot of water :(</td>\n",
       "      <td>4</td>\n",
       "      <td>[-0.011465802, 0.007062405, 0.06518951, 0.0355...</td>\n",
       "    </tr>\n",
       "  </tbody>\n",
       "</table>\n",
       "</div>"
      ],
      "text/plain": [
       "  aware_post_type     aware_created_ts reddit_id reddit_name  \\\n",
       "0      submission  2023-04-02T13:58:03   129sqka  t3_129sqka   \n",
       "1         comment  2023-04-02T14:32:57   jeounwc  t1_jeounwc   \n",
       "2         comment  2023-04-02T14:48:18   jeowus2  t1_jeowus2   \n",
       "3         comment  2023-04-02T14:48:49   jeowxe5  t1_jeowxe5   \n",
       "4         comment  2023-04-02T21:59:22   jeqiuw3  t1_jeqiuw3   \n",
       "\n",
       "   reddit_created_utc    reddit_author  \\\n",
       "0          1680458283    MoodyStarGirl   \n",
       "1          1680460377  Lost_Treat_6296   \n",
       "2          1680461298    MoodyStarGirl   \n",
       "3          1680461329  Lost_Treat_6296   \n",
       "4          1680487162    MoodyStarGirl   \n",
       "\n",
       "                                         reddit_text  \\\n",
       "0                                         That's it.   \n",
       "1  We should make the chai tea latte with the sam...   \n",
       "2                   Oh like using the chai tea bags?   \n",
       "3       No, the whole half water and half milk thing   \n",
       "4                           That's a lot of water :(   \n",
       "\n",
       "                                    reddit_permalink  \\\n",
       "0  /r/starbucks/comments/129sqka/hot_chai_lattes_...   \n",
       "1  /r/starbucks/comments/129sqka/hot_chai_lattes_...   \n",
       "2  /r/starbucks/comments/129sqka/hot_chai_lattes_...   \n",
       "3  /r/starbucks/comments/129sqka/hot_chai_lattes_...   \n",
       "4  /r/starbucks/comments/129sqka/hot_chai_lattes_...   \n",
       "\n",
       "                           reddit_title  \\\n",
       "0  Hot chai lattes shouldn't have water   \n",
       "1                                  None   \n",
       "2                                  None   \n",
       "3                                  None   \n",
       "4                                  None   \n",
       "\n",
       "                                          reddit_url reddit_subreddit  \\\n",
       "0  https://www.reddit.com/r/starbucks/comments/12...        starbucks   \n",
       "1                                               None        starbucks   \n",
       "2                                               None        starbucks   \n",
       "3                                               None        starbucks   \n",
       "4                                               None        starbucks   \n",
       "\n",
       "  reddit_link_id reddit_parent_id reddit_submission  \\\n",
       "0           None             None              None   \n",
       "1     t3_129sqka       t3_129sqka           129sqka   \n",
       "2     t3_129sqka       t1_jeounwc           129sqka   \n",
       "3     t3_129sqka       t1_jeowus2           129sqka   \n",
       "4     t3_129sqka       t1_jeowxe5           129sqka   \n",
       "\n",
       "                                      text_and_title  id  \\\n",
       "0  Hot chai lattes shouldn't have water [SEP] Tha...   0   \n",
       "1  We should make the chai tea latte with the sam...   1   \n",
       "2                   Oh like using the chai tea bags?   2   \n",
       "3       No, the whole half water and half milk thing   3   \n",
       "4                           That's a lot of water :(   4   \n",
       "\n",
       "                                              vector  \n",
       "0  [0.0, 0.0, 0.0, 0.0, 0.0, 0.0, 0.0, 0.0, 0.0, ...  \n",
       "1  [-0.014269034, -0.04020995, -0.020817002, 0.00...  \n",
       "2  [-0.049435094, -0.036684588, -0.03507152, -0.0...  \n",
       "3  [-0.049866207, 0.058588855, -0.045397144, 0.02...  \n",
       "4  [-0.011465802, 0.007062405, 0.06518951, 0.0355...  "
      ]
     },
     "execution_count": 10,
     "metadata": {},
     "output_type": "execute_result"
    }
   ],
   "source": [
    "table.merge(embeddings, left_on=\"id\")\n",
    "table.head().to_pandas()"
   ]
  },
  {
   "cell_type": "markdown",
   "id": "709b35e4",
   "metadata": {},
   "source": [
    "## Build Approximate Nearest Neighbors Index"
   ]
  },
  {
   "cell_type": "code",
   "execution_count": 12,
   "id": "0828ca77",
   "metadata": {},
   "outputs": [
    {
     "name": "stderr",
     "output_type": "stream",
     "text": [
      " 38%|████████████████▎                          | 19/50 [00:00<00:00, 49.64it/s]\n"
     ]
    },
    {
     "data": {
      "application/vnd.jupyter.widget-view+json": {
       "model_id": "e299319b997c430d98f0b3285cc8f71c",
       "version_major": 2,
       "version_minor": 0
      },
      "text/plain": [
       "0it [00:00, ?it/s]"
      ]
     },
     "metadata": {},
     "output_type": "display_data"
    },
    {
     "name": "stderr",
     "output_type": "stream",
     "text": [
      "/Users/nessmaykerchen/anaconda3/lib/python3.11/site-packages/lance/torch/data.py:67: UserWarning: The given NumPy array is not writable, and PyTorch does not support non-writable tensors. This means writing to this tensor will result in undefined behavior. You may want to copy the array to protect its data or make it writable before converting it to a tensor. This type of warning will be suppressed for the rest of this program. (Triggered internally at /Users/runner/work/_temp/anaconda/conda-bld/pytorch_1708025536958/work/torch/csrc/utils/tensor_numpy.cpp:212.)\n",
      "  tensor = torch.from_numpy(arr.to_numpy(zero_copy_only=False))\n"
     ]
    }
   ],
   "source": [
    "# !pip install tantivy\n",
    "\n",
    "# table.create_fts_index(\"text\")\n",
    "table.create_index(\n",
    "     num_partitions=6, #6\n",
    "     num_sub_vectors=6, #6\n",
    "     accelerator=\"mps\"\n",
    ")    \n"
   ]
  },
  {
   "cell_type": "markdown",
   "id": "f5631c10",
   "metadata": {},
   "source": [
    "## Embed the Query"
   ]
  },
  {
   "cell_type": "code",
   "execution_count": 13,
   "id": "8a636cb4",
   "metadata": {},
   "outputs": [
    {
     "name": "stdout",
     "output_type": "stream",
     "text": [
      "[-0.09422024339437485, 0.03434516116976738, -0.04547581821680069, 0.029447222128510475, 0.032719649374485016, -0.08513286709785461, 0.15210068225860596, -0.049321141093969345, -0.006353082600980997, 0.004083271604031324]\n"
     ]
    }
   ],
   "source": [
    "query_string = \"What is chai made of?\" \n",
    "query = model.encode(query_string,\n",
    "                       convert_to_numpy=True,\n",
    "                       normalize_embeddings=True).tolist()\n",
    "print(query[0:10])\n"
   ]
  },
  {
   "cell_type": "markdown",
   "id": "a1d4a013",
   "metadata": {},
   "source": [
    "## Search for Approximate Nearest Neighbors\n",
    "By default, LanceDB runs a brute-force scan over dataset to find the K nearest neighbours (KNN). For tables with more than 50K vectors, creating an ANN index is recommended to speed up search performance.\n",
    "\n",
    "Using an ANN index is faster, but less accurate than kNN or brute force search because, in essence, the index is a lossy representation of the data."
   ]
  },
  {
   "cell_type": "code",
   "execution_count": 14,
   "id": "7d23539b",
   "metadata": {},
   "outputs": [
    {
     "name": "stdout",
     "output_type": "stream",
     "text": [
      "I get this and I’m Black! 🤣🤣🤣😩\n"
     ]
    }
   ],
   "source": [
    "response = table.search(query).limit(4).nprobes(20).refine_factor(10).to_pandas()\n",
    "print(response[\"reddit_text\"][0])"
   ]
  },
  {
   "cell_type": "code",
   "execution_count": 15,
   "id": "3f2b9605",
   "metadata": {},
   "outputs": [
    {
     "name": "stdout",
     "output_type": "stream",
     "text": [
      "What is chai made of?\n",
      "0                       I get this and I’m Black! 🤣🤣🤣😩\n",
      "1    Iced is my favorite but a chai Frappuccino is ...\n",
      "2    iced chai with oatmilk and cinnamon dolche syr...\n",
      "3    Yeah, working here made me realize that I can ...\n",
      "Name: reddit_text, dtype: object\n"
     ]
    }
   ],
   "source": [
    "print(query_string)\n",
    "print(response[\"reddit_text\"][0:5])"
   ]
  },
  {
   "cell_type": "markdown",
   "id": "cc4099cc",
   "metadata": {},
   "source": []
  }
 ],
 "metadata": {
  "kernelspec": {
   "display_name": "Python 3 (ipykernel)",
   "language": "python",
   "name": "python3"
  },
  "language_info": {
   "codemirror_mode": {
    "name": "ipython",
    "version": 3
   },
   "file_extension": ".py",
   "mimetype": "text/x-python",
   "name": "python",
   "nbconvert_exporter": "python",
   "pygments_lexer": "ipython3",
   "version": "3.11.5"
  }
 },
 "nbformat": 4,
 "nbformat_minor": 5
}
