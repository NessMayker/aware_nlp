{
 "cells": [
  {
   "cell_type": "markdown",
   "metadata": {},
   "source": [
    "### Load data"
   ]
  },
  {
   "cell_type": "code",
   "execution_count": 1,
   "metadata": {},
   "outputs": [],
   "source": [
    "import pandas as pd\n",
    "\n",
    "data = pd.read_json(\"../AwareData/reddit.json\")"
   ]
  },
  {
   "cell_type": "markdown",
   "metadata": {},
   "source": [
    "### Preprocess\n",
    "\n",
    "Add a column of reddit subreddit labels."
   ]
  },
  {
   "cell_type": "code",
   "execution_count": 2,
   "metadata": {},
   "outputs": [],
   "source": [
    "subreddits = data['reddit_subreddit'].unique()\n",
    "label_dict = dict(zip(subreddits, range(len(subreddits))))\n",
    "data['reddit_subreddit_label'] = data['reddit_subreddit'].apply(lambda x: label_dict[x])"
   ]
  },
  {
   "cell_type": "markdown",
   "metadata": {},
   "source": [
    "Add a column of indices."
   ]
  },
  {
   "cell_type": "code",
   "execution_count": 5,
   "metadata": {},
   "outputs": [],
   "source": [
    "data.loc[:, 'index'] = data.index"
   ]
  },
  {
   "cell_type": "markdown",
   "metadata": {},
   "source": [
    "Make a new dataframe of submissions only."
   ]
  },
  {
   "cell_type": "code",
   "execution_count": 6,
   "metadata": {},
   "outputs": [],
   "source": [
    "subs = data.loc[data['aware_post_type']=='submission']"
   ]
  },
  {
   "cell_type": "markdown",
   "metadata": {},
   "source": [
    "Combine submission title and text."
   ]
  },
  {
   "cell_type": "code",
   "execution_count": 7,
   "metadata": {},
   "outputs": [
    {
     "name": "stderr",
     "output_type": "stream",
     "text": [
      "/var/folders/7t/162mp27s01zd9vjv97ym_ghh0000gn/T/ipykernel_25964/4209920387.py:1: SettingWithCopyWarning: \n",
      "A value is trying to be set on a copy of a slice from a DataFrame.\n",
      "Try using .loc[row_indexer,col_indexer] = value instead\n",
      "\n",
      "See the caveats in the documentation: https://pandas.pydata.org/pandas-docs/stable/user_guide/indexing.html#returning-a-view-versus-a-copy\n",
      "  subs.loc[:, 'text_and_title'] = [subs['reddit_title'].iloc[i] + ' ' + subs['reddit_text'].iloc[i] for i in range(len(subs))]\n"
     ]
    }
   ],
   "source": [
    "subs.loc[:, 'text_and_title'] = [subs['reddit_title'].iloc[i] + ' ' + subs['reddit_text'].iloc[i] for i in range(len(subs))]"
   ]
  },
  {
   "cell_type": "markdown",
   "metadata": {},
   "source": [
    "Drop those submissons with no comments"
   ]
  },
  {
   "cell_type": "code",
   "execution_count": 8,
   "metadata": {},
   "outputs": [
    {
     "name": "stderr",
     "output_type": "stream",
     "text": [
      "/var/folders/7t/162mp27s01zd9vjv97ym_ghh0000gn/T/ipykernel_25964/3250147361.py:3: SettingWithCopyWarning: \n",
      "A value is trying to be set on a copy of a slice from a DataFrame.\n",
      "Try using .loc[row_indexer,col_indexer] = value instead\n",
      "\n",
      "See the caveats in the documentation: https://pandas.pydata.org/pandas-docs/stable/user_guide/indexing.html#returning-a-view-versus-a-copy\n",
      "  subs.loc[ind, 'has_comment'] = data.loc[ind + 1, 'aware_post_type'] == 'comment'\n"
     ]
    }
   ],
   "source": [
    "for i in range(len(subs)):\n",
    "    ind = subs.iloc[i]['index']\n",
    "    subs.loc[ind, 'has_comment'] = data.loc[ind + 1, 'aware_post_type'] == 'comment'\n",
    "\n",
    "subs = subs.drop(subs[subs['has_comment']==False].index)"
   ]
  },
  {
   "cell_type": "code",
   "execution_count": 9,
   "metadata": {},
   "outputs": [
    {
     "data": {
      "text/plain": [
       "20710"
      ]
     },
     "execution_count": 9,
     "metadata": {},
     "output_type": "execute_result"
    }
   ],
   "source": [
    "len(subs)"
   ]
  },
  {
   "cell_type": "markdown",
   "metadata": {},
   "source": [
    "### Embedding"
   ]
  },
  {
   "cell_type": "code",
   "execution_count": 10,
   "metadata": {},
   "outputs": [],
   "source": [
    "from sentence_transformers import SentenceTransformer\n",
    "\n",
    "model = SentenceTransformer(\"all-MiniLM-L6-v2\", device=\"mps\")"
   ]
  },
  {
   "cell_type": "code",
   "execution_count": 11,
   "metadata": {},
   "outputs": [],
   "source": [
    "vectors = model.encode(subs['text_and_title'].values.tolist(),\n",
    "                       convert_to_numpy=True,\n",
    "                       normalize_embeddings=True)\n",
    "subs['vector'] = vectors.tolist()"
   ]
  },
  {
   "cell_type": "markdown",
   "metadata": {},
   "source": [
    "### KNN"
   ]
  },
  {
   "cell_type": "code",
   "execution_count": 12,
   "metadata": {},
   "outputs": [],
   "source": [
    "import lancedb"
   ]
  },
  {
   "cell_type": "code",
   "execution_count": 13,
   "metadata": {},
   "outputs": [],
   "source": [
    "db = lancedb.connect(\"~/.lancedb\")\n",
    "table = db.create_table(\"reddit\", subs, mode=\"overwrite\")\n",
    "# table = db.create_table(\"reddit\", subs, exist_ok=True)"
   ]
  },
  {
   "cell_type": "code",
   "execution_count": 34,
   "metadata": {},
   "outputs": [],
   "source": [
    "# table.create_index(\n",
    "#      num_partitions=256,\n",
    "#      num_sub_vectors=96,\n",
    "#      accelerator=\"mps\"\n",
    "# )  "
   ]
  },
  {
   "cell_type": "code",
   "execution_count": 14,
   "metadata": {},
   "outputs": [],
   "source": [
    "query_string = \"What is chai made of?\" \n",
    "query = model.encode(query_string,\n",
    "                       convert_to_numpy=True,\n",
    "                       normalize_embeddings=True).tolist()"
   ]
  },
  {
   "cell_type": "code",
   "execution_count": 15,
   "metadata": {},
   "outputs": [
    {
     "data": {
      "text/html": [
       "<div>\n",
       "<style scoped>\n",
       "    .dataframe tbody tr th:only-of-type {\n",
       "        vertical-align: middle;\n",
       "    }\n",
       "\n",
       "    .dataframe tbody tr th {\n",
       "        vertical-align: top;\n",
       "    }\n",
       "\n",
       "    .dataframe thead th {\n",
       "        text-align: right;\n",
       "    }\n",
       "</style>\n",
       "<table border=\"1\" class=\"dataframe\">\n",
       "  <thead>\n",
       "    <tr style=\"text-align: right;\">\n",
       "      <th></th>\n",
       "      <th>aware_post_type</th>\n",
       "      <th>aware_created_ts</th>\n",
       "      <th>reddit_id</th>\n",
       "      <th>reddit_name</th>\n",
       "      <th>reddit_created_utc</th>\n",
       "      <th>reddit_author</th>\n",
       "      <th>reddit_text</th>\n",
       "      <th>reddit_permalink</th>\n",
       "      <th>reddit_title</th>\n",
       "      <th>reddit_url</th>\n",
       "      <th>reddit_subreddit</th>\n",
       "      <th>reddit_link_id</th>\n",
       "      <th>reddit_parent_id</th>\n",
       "      <th>reddit_submission</th>\n",
       "      <th>reddit_subreddit_label</th>\n",
       "      <th>index</th>\n",
       "      <th>text_and_title</th>\n",
       "      <th>has_comment</th>\n",
       "      <th>vector</th>\n",
       "      <th>_distance</th>\n",
       "    </tr>\n",
       "  </thead>\n",
       "  <tbody>\n",
       "    <tr>\n",
       "      <th>0</th>\n",
       "      <td>submission</td>\n",
       "      <td>2023-04-08T09:17:03</td>\n",
       "      <td>12flsj2</td>\n",
       "      <td>t3_12flsj2</td>\n",
       "      <td>1680959823</td>\n",
       "      <td>GeminiDragon60</td>\n",
       "      <td>Newbie here. How is a hot Chai latte made? Tha...</td>\n",
       "      <td>/r/starbucks/comments/12flsj2/chai_latte/</td>\n",
       "      <td>Chai latte</td>\n",
       "      <td>https://www.reddit.com/r/starbucks/comments/12...</td>\n",
       "      <td>starbucks</td>\n",
       "      <td>None</td>\n",
       "      <td>None</td>\n",
       "      <td>None</td>\n",
       "      <td>0</td>\n",
       "      <td>69813</td>\n",
       "      <td>Chai latte Newbie here. How is a hot Chai latt...</td>\n",
       "      <td>True</td>\n",
       "      <td>[-0.082613766, -0.047615167, -0.059928607, 0.0...</td>\n",
       "      <td>0.871238</td>\n",
       "    </tr>\n",
       "    <tr>\n",
       "      <th>1</th>\n",
       "      <td>submission</td>\n",
       "      <td>2023-03-31T09:00:33</td>\n",
       "      <td>127kqyb</td>\n",
       "      <td>t3_127kqyb</td>\n",
       "      <td>1680267633</td>\n",
       "      <td>rabby10</td>\n",
       "      <td>Hot or iced!</td>\n",
       "      <td>/r/starbucksbaristas/comments/127kqyb/what_is_...</td>\n",
       "      <td>What is your favorite way to enjoy a chai?</td>\n",
       "      <td>https://www.reddit.com/r/starbucksbaristas/com...</td>\n",
       "      <td>starbucksbaristas</td>\n",
       "      <td>None</td>\n",
       "      <td>None</td>\n",
       "      <td>None</td>\n",
       "      <td>1</td>\n",
       "      <td>47626</td>\n",
       "      <td>What is your favorite way to enjoy a chai? Hot...</td>\n",
       "      <td>True</td>\n",
       "      <td>[-0.07057586, -0.014952984, -0.032797873, 0.05...</td>\n",
       "      <td>1.105819</td>\n",
       "    </tr>\n",
       "    <tr>\n",
       "      <th>2</th>\n",
       "      <td>submission</td>\n",
       "      <td>2023-04-21T00:00:23</td>\n",
       "      <td>12tpnpv</td>\n",
       "      <td>t3_12tpnpv</td>\n",
       "      <td>1682049623</td>\n",
       "      <td>black_whitecookie23</td>\n",
       "      <td>Hey there I like the iced chai tea latte but t...</td>\n",
       "      <td>/r/starbucks/comments/12tpnpv/iced_chai_tea_la...</td>\n",
       "      <td>Iced chai tea latte</td>\n",
       "      <td>https://www.reddit.com/r/starbucks/comments/12...</td>\n",
       "      <td>starbucks</td>\n",
       "      <td>None</td>\n",
       "      <td>None</td>\n",
       "      <td>None</td>\n",
       "      <td>0</td>\n",
       "      <td>235168</td>\n",
       "      <td>Iced chai tea latte Hey there I like the iced ...</td>\n",
       "      <td>True</td>\n",
       "      <td>[-0.064972535, -0.099334784, -0.046199642, -0....</td>\n",
       "      <td>1.111110</td>\n",
       "    </tr>\n",
       "    <tr>\n",
       "      <th>3</th>\n",
       "      <td>submission</td>\n",
       "      <td>2023-04-08T18:30:16</td>\n",
       "      <td>12g0k3f</td>\n",
       "      <td>t3_12g0k3f</td>\n",
       "      <td>1680993016</td>\n",
       "      <td>Outrageous_Ad798</td>\n",
       "      <td>I made a drink for my friend who loves gingerb...</td>\n",
       "      <td>/r/starbucks/comments/12g0k3f/my_best_creation/</td>\n",
       "      <td>My best creation</td>\n",
       "      <td>https://www.reddit.com/r/starbucks/comments/12...</td>\n",
       "      <td>starbucks</td>\n",
       "      <td>None</td>\n",
       "      <td>None</td>\n",
       "      <td>None</td>\n",
       "      <td>0</td>\n",
       "      <td>74149</td>\n",
       "      <td>My best creation I made a drink for my friend ...</td>\n",
       "      <td>True</td>\n",
       "      <td>[-0.10863018, 0.014598468, -0.00557208, -0.018...</td>\n",
       "      <td>1.129766</td>\n",
       "    </tr>\n",
       "  </tbody>\n",
       "</table>\n",
       "</div>"
      ],
      "text/plain": [
       "  aware_post_type     aware_created_ts reddit_id reddit_name  \\\n",
       "0      submission  2023-04-08T09:17:03   12flsj2  t3_12flsj2   \n",
       "1      submission  2023-03-31T09:00:33   127kqyb  t3_127kqyb   \n",
       "2      submission  2023-04-21T00:00:23   12tpnpv  t3_12tpnpv   \n",
       "3      submission  2023-04-08T18:30:16   12g0k3f  t3_12g0k3f   \n",
       "\n",
       "   reddit_created_utc        reddit_author  \\\n",
       "0          1680959823       GeminiDragon60   \n",
       "1          1680267633              rabby10   \n",
       "2          1682049623  black_whitecookie23   \n",
       "3          1680993016     Outrageous_Ad798   \n",
       "\n",
       "                                         reddit_text  \\\n",
       "0  Newbie here. How is a hot Chai latte made? Tha...   \n",
       "1                                       Hot or iced!   \n",
       "2  Hey there I like the iced chai tea latte but t...   \n",
       "3  I made a drink for my friend who loves gingerb...   \n",
       "\n",
       "                                    reddit_permalink  \\\n",
       "0          /r/starbucks/comments/12flsj2/chai_latte/   \n",
       "1  /r/starbucksbaristas/comments/127kqyb/what_is_...   \n",
       "2  /r/starbucks/comments/12tpnpv/iced_chai_tea_la...   \n",
       "3    /r/starbucks/comments/12g0k3f/my_best_creation/   \n",
       "\n",
       "                                 reddit_title  \\\n",
       "0                                  Chai latte   \n",
       "1  What is your favorite way to enjoy a chai?   \n",
       "2                         Iced chai tea latte   \n",
       "3                            My best creation   \n",
       "\n",
       "                                          reddit_url   reddit_subreddit  \\\n",
       "0  https://www.reddit.com/r/starbucks/comments/12...          starbucks   \n",
       "1  https://www.reddit.com/r/starbucksbaristas/com...  starbucksbaristas   \n",
       "2  https://www.reddit.com/r/starbucks/comments/12...          starbucks   \n",
       "3  https://www.reddit.com/r/starbucks/comments/12...          starbucks   \n",
       "\n",
       "  reddit_link_id reddit_parent_id reddit_submission  reddit_subreddit_label  \\\n",
       "0           None             None              None                       0   \n",
       "1           None             None              None                       1   \n",
       "2           None             None              None                       0   \n",
       "3           None             None              None                       0   \n",
       "\n",
       "    index                                     text_and_title  has_comment  \\\n",
       "0   69813  Chai latte Newbie here. How is a hot Chai latt...         True   \n",
       "1   47626  What is your favorite way to enjoy a chai? Hot...         True   \n",
       "2  235168  Iced chai tea latte Hey there I like the iced ...         True   \n",
       "3   74149  My best creation I made a drink for my friend ...         True   \n",
       "\n",
       "                                              vector  _distance  \n",
       "0  [-0.082613766, -0.047615167, -0.059928607, 0.0...   0.871238  \n",
       "1  [-0.07057586, -0.014952984, -0.032797873, 0.05...   1.105819  \n",
       "2  [-0.064972535, -0.099334784, -0.046199642, -0....   1.111110  \n",
       "3  [-0.10863018, 0.014598468, -0.00557208, -0.018...   1.129766  "
      ]
     },
     "execution_count": 15,
     "metadata": {},
     "output_type": "execute_result"
    }
   ],
   "source": [
    "response = table.search(query).limit(4).to_pandas()\n",
    "response"
   ]
  },
  {
   "cell_type": "code",
   "execution_count": 25,
   "metadata": {},
   "outputs": [
    {
     "name": "stdout",
     "output_type": "stream",
     "text": [
      "Submission title:  Chai latte\n",
      "Submission text:  Newbie here. How is a hot Chai latte made? Thanks!\n",
      "Comment:\n",
      " 1. Steam 2% milk\n",
      "2. Pump chai: 2/3/4/5 for short/tall/grande/venti \n",
      "3. Fill cup halfway with hot water\n",
      "4. Fill remaining half with steamed milk\n",
      "\n",
      "(https://sbuxdates.com is a great site for checking recipes)\n",
      "\n",
      "Submission title:  What is your favorite way to enjoy a chai?\n",
      "Submission text:  Hot or iced!\n",
      "Comment:\n",
      " iced with oatmilk and brown sugar\n",
      "\n",
      "Submission title:  Iced chai tea latte\n",
      "Submission text:  Hey there I like the iced chai tea latte but the chai tea concentrate in stores in so expensive and barely lasts a week. Is there anyway I can make the chai tea at home? Like actual homemade chai tea with spices and tea? Also do you know what brand is the most similar to the Starbucks brand soy milk? Thanks so much!\n",
      "Comment:\n",
      " I mean chai tea is pretty easy to find in the grocery store, or higher end tea suppliers. Just add a fuckton of sugar 🤷‍♀️\n",
      "\n",
      "And Silk is most similar to sbux.\n",
      "\n",
      "Submission title:  My best creation\n",
      "Submission text:  I made a drink for my friend who loves gingerbread. It is one of my best custom drink I have made so far and I want to share it with everyone. Its a chai with vanilla, brown sugar, cinnamon powder(in the drink) shaken with cinnamon dolce topping.\n",
      "Comment:\n",
      " A blonde shot too and it tastes so much like gingerbread\n",
      "\n"
     ]
    }
   ],
   "source": [
    "for i in response['index']:\n",
    "    print('Submission title: ', data.loc[i, 'reddit_title'])\n",
    "    print('Submission text: ', data.loc[i, 'reddit_text'])\n",
    "    print('Comment:\\n', data.loc[i + 1, 'reddit_text'])\n",
    "    print()"
   ]
  },
  {
   "cell_type": "markdown",
   "metadata": {},
   "source": [
    "### Finetune the pretrained model"
   ]
  },
  {
   "cell_type": "code",
   "execution_count": 31,
   "metadata": {},
   "outputs": [],
   "source": [
    "from sentence_transformers import losses\n",
    "from sentence_transformers import InputExample\n",
    "from torch.utils.data import DataLoader"
   ]
  },
  {
   "cell_type": "markdown",
   "metadata": {},
   "source": [
    "Use (text and title, subreddit label) pairs to finetune the model, so that submissions in same subreddit are closer to each other in the embedding."
   ]
  },
  {
   "cell_type": "code",
   "execution_count": 32,
   "metadata": {},
   "outputs": [],
   "source": [
    "train_loss = losses.BatchAllTripletLoss(model=model)\n",
    "train_data = [InputExample(texts=[subs['text_and_title'].iloc[i]], label=subs['reddit_subreddit_label'].iloc[i]) for i in range(len(subs))]\n",
    "train_dataloader = DataLoader(train_data, shuffle=True, batch_size=16)"
   ]
  },
  {
   "cell_type": "code",
   "execution_count": 33,
   "metadata": {},
   "outputs": [
    {
     "data": {
      "application/vnd.jupyter.widget-view+json": {
       "model_id": "9cc70152d60842f9a0a4d9c437188cf9",
       "version_major": 2,
       "version_minor": 0
      },
      "text/plain": [
       "Epoch:   0%|          | 0/1 [00:00<?, ?it/s]"
      ]
     },
     "metadata": {},
     "output_type": "display_data"
    },
    {
     "data": {
      "application/vnd.jupyter.widget-view+json": {
       "model_id": "f1089a239ccd4fd4912211ac7adb7d63",
       "version_major": 2,
       "version_minor": 0
      },
      "text/plain": [
       "Iteration:   0%|          | 0/1295 [00:00<?, ?it/s]"
      ]
     },
     "metadata": {},
     "output_type": "display_data"
    }
   ],
   "source": [
    "model.fit(train_objectives=[(train_dataloader, train_loss)], epochs=1)"
   ]
  },
  {
   "cell_type": "code",
   "execution_count": 34,
   "metadata": {},
   "outputs": [],
   "source": [
    "model.save(path='../model', model_name='finetuned')"
   ]
  },
  {
   "cell_type": "markdown",
   "metadata": {},
   "source": [
    "### KNN with the finetuned embedding"
   ]
  },
  {
   "cell_type": "code",
   "execution_count": 35,
   "metadata": {},
   "outputs": [],
   "source": [
    "model_finetuned = SentenceTransformer(\"../model\", device='mps')\n",
    "\n",
    "vectors = model_finetuned.encode(subs['text_and_title'].values.tolist(),\n",
    "                       convert_to_numpy=True,\n",
    "                       normalize_embeddings=True)\n",
    "subs['vector'] = vectors.tolist()"
   ]
  },
  {
   "cell_type": "code",
   "execution_count": 36,
   "metadata": {},
   "outputs": [],
   "source": [
    "table = db.create_table(\"reddit2\", subs, mode=\"overwrite\")"
   ]
  },
  {
   "cell_type": "code",
   "execution_count": 37,
   "metadata": {},
   "outputs": [],
   "source": [
    "query_string = \"What is chai made of?\" \n",
    "query = model.encode(query_string,\n",
    "                       convert_to_numpy=True,\n",
    "                       normalize_embeddings=True).tolist()"
   ]
  },
  {
   "cell_type": "code",
   "execution_count": 38,
   "metadata": {},
   "outputs": [
    {
     "data": {
      "text/html": [
       "<div>\n",
       "<style scoped>\n",
       "    .dataframe tbody tr th:only-of-type {\n",
       "        vertical-align: middle;\n",
       "    }\n",
       "\n",
       "    .dataframe tbody tr th {\n",
       "        vertical-align: top;\n",
       "    }\n",
       "\n",
       "    .dataframe thead th {\n",
       "        text-align: right;\n",
       "    }\n",
       "</style>\n",
       "<table border=\"1\" class=\"dataframe\">\n",
       "  <thead>\n",
       "    <tr style=\"text-align: right;\">\n",
       "      <th></th>\n",
       "      <th>aware_post_type</th>\n",
       "      <th>aware_created_ts</th>\n",
       "      <th>reddit_id</th>\n",
       "      <th>reddit_name</th>\n",
       "      <th>reddit_created_utc</th>\n",
       "      <th>reddit_author</th>\n",
       "      <th>reddit_text</th>\n",
       "      <th>reddit_permalink</th>\n",
       "      <th>reddit_title</th>\n",
       "      <th>reddit_url</th>\n",
       "      <th>reddit_subreddit</th>\n",
       "      <th>reddit_link_id</th>\n",
       "      <th>reddit_parent_id</th>\n",
       "      <th>reddit_submission</th>\n",
       "      <th>reddit_subreddit_label</th>\n",
       "      <th>index</th>\n",
       "      <th>text_and_title</th>\n",
       "      <th>has_comment</th>\n",
       "      <th>vector</th>\n",
       "      <th>_distance</th>\n",
       "    </tr>\n",
       "  </thead>\n",
       "  <tbody>\n",
       "    <tr>\n",
       "      <th>0</th>\n",
       "      <td>submission</td>\n",
       "      <td>2023-03-31T09:00:33</td>\n",
       "      <td>127kqyb</td>\n",
       "      <td>t3_127kqyb</td>\n",
       "      <td>1680267633</td>\n",
       "      <td>rabby10</td>\n",
       "      <td>Hot or iced!</td>\n",
       "      <td>/r/starbucksbaristas/comments/127kqyb/what_is_...</td>\n",
       "      <td>What is your favorite way to enjoy a chai?</td>\n",
       "      <td>https://www.reddit.com/r/starbucksbaristas/com...</td>\n",
       "      <td>starbucksbaristas</td>\n",
       "      <td>None</td>\n",
       "      <td>None</td>\n",
       "      <td>None</td>\n",
       "      <td>1</td>\n",
       "      <td>47626</td>\n",
       "      <td>What is your favorite way to enjoy a chai? Hot...</td>\n",
       "      <td>True</td>\n",
       "      <td>[-0.047044724, -0.02101022, -0.017901227, 0.07...</td>\n",
       "      <td>0.927126</td>\n",
       "    </tr>\n",
       "    <tr>\n",
       "      <th>1</th>\n",
       "      <td>submission</td>\n",
       "      <td>2023-04-08T09:17:03</td>\n",
       "      <td>12flsj2</td>\n",
       "      <td>t3_12flsj2</td>\n",
       "      <td>1680959823</td>\n",
       "      <td>GeminiDragon60</td>\n",
       "      <td>Newbie here. How is a hot Chai latte made? Tha...</td>\n",
       "      <td>/r/starbucks/comments/12flsj2/chai_latte/</td>\n",
       "      <td>Chai latte</td>\n",
       "      <td>https://www.reddit.com/r/starbucks/comments/12...</td>\n",
       "      <td>starbucks</td>\n",
       "      <td>None</td>\n",
       "      <td>None</td>\n",
       "      <td>None</td>\n",
       "      <td>0</td>\n",
       "      <td>69813</td>\n",
       "      <td>Chai latte Newbie here. How is a hot Chai latt...</td>\n",
       "      <td>True</td>\n",
       "      <td>[-0.07323092, -0.067822, -0.04523185, 0.047510...</td>\n",
       "      <td>0.998666</td>\n",
       "    </tr>\n",
       "    <tr>\n",
       "      <th>2</th>\n",
       "      <td>submission</td>\n",
       "      <td>2023-04-15T19:53:52</td>\n",
       "      <td>12nnkli</td>\n",
       "      <td>t3_12nnkli</td>\n",
       "      <td>1681602832</td>\n",
       "      <td>TwistyTacos</td>\n",
       "      <td>None</td>\n",
       "      <td>/r/starbucks/comments/12nnkli/20_pumps_of_chai/</td>\n",
       "      <td>20 pumps of chai….</td>\n",
       "      <td>https://i.redd.it/742smopkg6ua1.jpg</td>\n",
       "      <td>starbucks</td>\n",
       "      <td>None</td>\n",
       "      <td>None</td>\n",
       "      <td>None</td>\n",
       "      <td>0</td>\n",
       "      <td>166955</td>\n",
       "      <td>20 pumps of chai….</td>\n",
       "      <td>True</td>\n",
       "      <td>[-0.045237705, 0.07069547, -0.041915175, 0.005...</td>\n",
       "      <td>1.033151</td>\n",
       "    </tr>\n",
       "    <tr>\n",
       "      <th>3</th>\n",
       "      <td>submission</td>\n",
       "      <td>2023-04-11T21:00:12</td>\n",
       "      <td>12j4gjk</td>\n",
       "      <td>t3_12j4gjk</td>\n",
       "      <td>1681261212</td>\n",
       "      <td>nicolelynnejones</td>\n",
       "      <td>None</td>\n",
       "      <td>/r/starbucksbaristas/comments/12j4gjk/iced_cha...</td>\n",
       "      <td>iced chai custies ♥️🫶🏻😭</td>\n",
       "      <td>https://i.redd.it/83iq8ker8eta1.jpg</td>\n",
       "      <td>starbucksbaristas</td>\n",
       "      <td>None</td>\n",
       "      <td>None</td>\n",
       "      <td>None</td>\n",
       "      <td>1</td>\n",
       "      <td>88998</td>\n",
       "      <td>iced chai custies ♥️🫶🏻😭</td>\n",
       "      <td>True</td>\n",
       "      <td>[-0.08417167, -0.02565384, -0.002591417, 0.039...</td>\n",
       "      <td>1.047739</td>\n",
       "    </tr>\n",
       "  </tbody>\n",
       "</table>\n",
       "</div>"
      ],
      "text/plain": [
       "  aware_post_type     aware_created_ts reddit_id reddit_name  \\\n",
       "0      submission  2023-03-31T09:00:33   127kqyb  t3_127kqyb   \n",
       "1      submission  2023-04-08T09:17:03   12flsj2  t3_12flsj2   \n",
       "2      submission  2023-04-15T19:53:52   12nnkli  t3_12nnkli   \n",
       "3      submission  2023-04-11T21:00:12   12j4gjk  t3_12j4gjk   \n",
       "\n",
       "   reddit_created_utc     reddit_author  \\\n",
       "0          1680267633           rabby10   \n",
       "1          1680959823    GeminiDragon60   \n",
       "2          1681602832       TwistyTacos   \n",
       "3          1681261212  nicolelynnejones   \n",
       "\n",
       "                                         reddit_text  \\\n",
       "0                                       Hot or iced!   \n",
       "1  Newbie here. How is a hot Chai latte made? Tha...   \n",
       "2                                               None   \n",
       "3                                               None   \n",
       "\n",
       "                                    reddit_permalink  \\\n",
       "0  /r/starbucksbaristas/comments/127kqyb/what_is_...   \n",
       "1          /r/starbucks/comments/12flsj2/chai_latte/   \n",
       "2    /r/starbucks/comments/12nnkli/20_pumps_of_chai/   \n",
       "3  /r/starbucksbaristas/comments/12j4gjk/iced_cha...   \n",
       "\n",
       "                                 reddit_title  \\\n",
       "0  What is your favorite way to enjoy a chai?   \n",
       "1                                  Chai latte   \n",
       "2                          20 pumps of chai….   \n",
       "3                     iced chai custies ♥️🫶🏻😭   \n",
       "\n",
       "                                          reddit_url   reddit_subreddit  \\\n",
       "0  https://www.reddit.com/r/starbucksbaristas/com...  starbucksbaristas   \n",
       "1  https://www.reddit.com/r/starbucks/comments/12...          starbucks   \n",
       "2                https://i.redd.it/742smopkg6ua1.jpg          starbucks   \n",
       "3                https://i.redd.it/83iq8ker8eta1.jpg  starbucksbaristas   \n",
       "\n",
       "  reddit_link_id reddit_parent_id reddit_submission  reddit_subreddit_label  \\\n",
       "0           None             None              None                       1   \n",
       "1           None             None              None                       0   \n",
       "2           None             None              None                       0   \n",
       "3           None             None              None                       1   \n",
       "\n",
       "    index                                     text_and_title  has_comment  \\\n",
       "0   47626  What is your favorite way to enjoy a chai? Hot...         True   \n",
       "1   69813  Chai latte Newbie here. How is a hot Chai latt...         True   \n",
       "2  166955                                20 pumps of chai….          True   \n",
       "3   88998                           iced chai custies ♥️🫶🏻😭          True   \n",
       "\n",
       "                                              vector  _distance  \n",
       "0  [-0.047044724, -0.02101022, -0.017901227, 0.07...   0.927126  \n",
       "1  [-0.07323092, -0.067822, -0.04523185, 0.047510...   0.998666  \n",
       "2  [-0.045237705, 0.07069547, -0.041915175, 0.005...   1.033151  \n",
       "3  [-0.08417167, -0.02565384, -0.002591417, 0.039...   1.047739  "
      ]
     },
     "execution_count": 38,
     "metadata": {},
     "output_type": "execute_result"
    }
   ],
   "source": [
    "response2 = table.search(query).limit(4).to_pandas()\n",
    "response2"
   ]
  },
  {
   "cell_type": "code",
   "execution_count": 39,
   "metadata": {},
   "outputs": [
    {
     "name": "stdout",
     "output_type": "stream",
     "text": [
      "Submission title:  What is your favorite way to enjoy a chai?\n",
      "Submission text:  Hot or iced!\n",
      "Comment:\n",
      " iced with oatmilk and brown sugar\n",
      "\n",
      "Submission title:  Chai latte\n",
      "Submission text:  Newbie here. How is a hot Chai latte made? Thanks!\n",
      "Comment:\n",
      " 1. Steam 2% milk\n",
      "2. Pump chai: 2/3/4/5 for short/tall/grande/venti \n",
      "3. Fill cup halfway with hot water\n",
      "4. Fill remaining half with steamed milk\n",
      "\n",
      "(https://sbuxdates.com is a great site for checking recipes)\n",
      "\n",
      "Submission title:  20 pumps of chai….\n",
      "Submission text:  \n",
      "Comment:\n",
      " This person is getting enough chai for the week. Starbucks is cutting all this out soon.\n",
      "\n",
      "Submission title:  iced chai custies ♥️🫶🏻😭\n",
      "Submission text:  \n",
      "Comment:\n",
      " I say “slay 😐” whenever customers are rude in drive thru\n",
      "\n"
     ]
    }
   ],
   "source": [
    "for i in response2['index']:\n",
    "    print('Submission title: ', data.loc[i, 'reddit_title'])\n",
    "    print('Submission text: ', data.loc[i, 'reddit_text'])\n",
    "    print('Comment:\\n', data.loc[i + 1, 'reddit_text'])\n",
    "    print()"
   ]
  }
 ],
 "metadata": {
  "kernelspec": {
   "display_name": "aware_nlp",
   "language": "python",
   "name": "python3"
  },
  "language_info": {
   "codemirror_mode": {
    "name": "ipython",
    "version": 3
   },
   "file_extension": ".py",
   "mimetype": "text/x-python",
   "name": "python",
   "nbconvert_exporter": "python",
   "pygments_lexer": "ipython3",
   "version": "3.12.2"
  }
 },
 "nbformat": 4,
 "nbformat_minor": 2
}
