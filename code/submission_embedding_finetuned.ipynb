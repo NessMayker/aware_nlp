{
 "cells": [
  {
   "cell_type": "markdown",
   "metadata": {},
   "source": [
    "### Load data"
   ]
  },
  {
   "cell_type": "code",
   "execution_count": 27,
   "metadata": {},
   "outputs": [],
   "source": [
    "import pandas as pd\n",
    "\n",
    "data = pd.read_json(\"../AwareData/reddit.json\")"
   ]
  },
  {
   "cell_type": "markdown",
   "metadata": {},
   "source": [
    "### Preprocess\n",
    "\n",
    "Add a column of reddit subreddit labels."
   ]
  },
  {
   "cell_type": "code",
   "execution_count": 47,
   "metadata": {},
   "outputs": [],
   "source": [
    "subreddits = data['reddit_subreddit'].unique()\n",
    "label_dict = dict(zip(subreddits, range(len(subreddits))))\n",
    "data['reddit_subreddit_label'] = data['reddit_subreddit'].apply(lambda x: label_dict[x])"
   ]
  },
  {
   "cell_type": "markdown",
   "metadata": {},
   "source": [
    "Add a column of indices."
   ]
  },
  {
   "cell_type": "code",
   "execution_count": 48,
   "metadata": {},
   "outputs": [],
   "source": [
    "data.loc[:, 'index'] = data.index"
   ]
  },
  {
   "cell_type": "markdown",
   "metadata": {},
   "source": [
    "Make a new dataframe of submissions only."
   ]
  },
  {
   "cell_type": "code",
   "execution_count": 49,
   "metadata": {},
   "outputs": [],
   "source": [
    "subs = data.loc[data['aware_post_type']=='submission'].reset_index(drop=True)"
   ]
  },
  {
   "cell_type": "markdown",
   "metadata": {},
   "source": [
    "Combine submission title and text."
   ]
  },
  {
   "cell_type": "code",
   "execution_count": 50,
   "metadata": {},
   "outputs": [],
   "source": [
    "subs.loc[:, 'text_and_title'] = [subs['reddit_title'].iloc[i] + ' [SEP] ' + subs['reddit_text'].iloc[i] for i in range(len(subs))]"
   ]
  },
  {
   "cell_type": "markdown",
   "metadata": {},
   "source": [
    "Add a column of comment indices"
   ]
  },
  {
   "cell_type": "code",
   "execution_count": 51,
   "metadata": {},
   "outputs": [],
   "source": [
    "subs['comment_indices'] = [[] for _ in range(len(subs))]\n",
    "for i in range(len(subs)):\n",
    "    sub_index = subs.loc[i, 'index']\n",
    "    next_sub_index = len(data) if i == len(subs)-1 else subs.loc[i+1,'index']\n",
    "    for j in range(sub_index+1, next_sub_index):\n",
    "        if data.loc[j, 'reddit_parent_id'] == subs.loc[i, 'reddit_name']:\n",
    "            subs['comment_indices'].iloc[i].append(data.loc[j,'index'])"
   ]
  },
  {
   "cell_type": "markdown",
   "metadata": {},
   "source": [
    "Drop those submissons with no comments"
   ]
  },
  {
   "cell_type": "code",
   "execution_count": 52,
   "metadata": {},
   "outputs": [],
   "source": [
    "subs = subs.drop(subs[subs['comment_indices'].str.len()==0].index)"
   ]
  },
  {
   "cell_type": "code",
   "execution_count": 53,
   "metadata": {},
   "outputs": [
    {
     "data": {
      "text/plain": [
       "20613"
      ]
     },
     "execution_count": 53,
     "metadata": {},
     "output_type": "execute_result"
    }
   ],
   "source": [
    "len(subs)"
   ]
  },
  {
   "cell_type": "markdown",
   "metadata": {},
   "source": [
    "### Embedding"
   ]
  },
  {
   "cell_type": "code",
   "execution_count": 54,
   "metadata": {},
   "outputs": [],
   "source": [
    "import torch\n",
    "\n",
    "if torch.cuda.is_available():\n",
    "    device = 'cuda'\n",
    "elif torch.backends.mps.is_available():\n",
    "    device = 'mps'\n",
    "else:\n",
    "    device = 'cpu'"
   ]
  },
  {
   "cell_type": "code",
   "execution_count": 55,
   "metadata": {},
   "outputs": [],
   "source": [
    "from sentence_transformers import SentenceTransformer\n",
    "\n",
    "model = SentenceTransformer(\"all-MiniLM-L6-v2\", device)"
   ]
  },
  {
   "cell_type": "code",
   "execution_count": 56,
   "metadata": {},
   "outputs": [],
   "source": [
    "vectors = model.encode(subs['text_and_title'].values.tolist(),\n",
    "                       convert_to_numpy=True,\n",
    "                       normalize_embeddings=True)\n",
    "subs['vector'] = vectors.tolist()"
   ]
  },
  {
   "cell_type": "markdown",
   "metadata": {},
   "source": [
    "### KNN"
   ]
  },
  {
   "cell_type": "code",
   "execution_count": 57,
   "metadata": {},
   "outputs": [],
   "source": [
    "import lancedb"
   ]
  },
  {
   "cell_type": "code",
   "execution_count": 58,
   "metadata": {},
   "outputs": [
    {
     "name": "stderr",
     "output_type": "stream",
     "text": [
      "[2024-04-19T04:51:34Z WARN  lance::dataset] No existing dataset at /Users/yangxiaoluo/Documents/projects/aware_nlp/code/../.lancedb/reddit.lance, it will be created\n"
     ]
    }
   ],
   "source": [
    "db = lancedb.connect(\"../.lancedb\")\n",
    "table = db.create_table(\"reddit\", subs, mode=\"overwrite\")\n",
    "# table = db.create_table(\"reddit\", subs, exist_ok=True)"
   ]
  },
  {
   "cell_type": "code",
   "execution_count": 34,
   "metadata": {},
   "outputs": [],
   "source": [
    "# table.create_index(\n",
    "#      num_partitions=256,\n",
    "#      num_sub_vectors=96,\n",
    "#      accelerator=\"mps\"\n",
    "# )  "
   ]
  },
  {
   "cell_type": "code",
   "execution_count": 59,
   "metadata": {},
   "outputs": [],
   "source": [
    "query_string = \"What is chai made of?\" \n",
    "query = model.encode(query_string,\n",
    "                       convert_to_numpy=True,\n",
    "                       normalize_embeddings=True).tolist()"
   ]
  },
  {
   "cell_type": "code",
   "execution_count": 60,
   "metadata": {},
   "outputs": [
    {
     "data": {
      "text/html": [
       "<div>\n",
       "<style scoped>\n",
       "    .dataframe tbody tr th:only-of-type {\n",
       "        vertical-align: middle;\n",
       "    }\n",
       "\n",
       "    .dataframe tbody tr th {\n",
       "        vertical-align: top;\n",
       "    }\n",
       "\n",
       "    .dataframe thead th {\n",
       "        text-align: right;\n",
       "    }\n",
       "</style>\n",
       "<table border=\"1\" class=\"dataframe\">\n",
       "  <thead>\n",
       "    <tr style=\"text-align: right;\">\n",
       "      <th></th>\n",
       "      <th>aware_post_type</th>\n",
       "      <th>aware_created_ts</th>\n",
       "      <th>reddit_id</th>\n",
       "      <th>reddit_name</th>\n",
       "      <th>reddit_created_utc</th>\n",
       "      <th>reddit_author</th>\n",
       "      <th>reddit_text</th>\n",
       "      <th>reddit_permalink</th>\n",
       "      <th>reddit_title</th>\n",
       "      <th>reddit_url</th>\n",
       "      <th>reddit_subreddit</th>\n",
       "      <th>reddit_link_id</th>\n",
       "      <th>reddit_parent_id</th>\n",
       "      <th>reddit_submission</th>\n",
       "      <th>reddit_subreddit_label</th>\n",
       "      <th>index</th>\n",
       "      <th>text_and_title</th>\n",
       "      <th>comment_indices</th>\n",
       "      <th>vector</th>\n",
       "      <th>_distance</th>\n",
       "    </tr>\n",
       "  </thead>\n",
       "  <tbody>\n",
       "    <tr>\n",
       "      <th>0</th>\n",
       "      <td>submission</td>\n",
       "      <td>2023-04-08T09:17:03</td>\n",
       "      <td>12flsj2</td>\n",
       "      <td>t3_12flsj2</td>\n",
       "      <td>1680959823</td>\n",
       "      <td>GeminiDragon60</td>\n",
       "      <td>Newbie here. How is a hot Chai latte made? Tha...</td>\n",
       "      <td>/r/starbucks/comments/12flsj2/chai_latte/</td>\n",
       "      <td>Chai latte</td>\n",
       "      <td>https://www.reddit.com/r/starbucks/comments/12...</td>\n",
       "      <td>starbucks</td>\n",
       "      <td>None</td>\n",
       "      <td>None</td>\n",
       "      <td>None</td>\n",
       "      <td>0</td>\n",
       "      <td>69813</td>\n",
       "      <td>Chai latte [SEP] Newbie here. How is a hot Cha...</td>\n",
       "      <td>[69814]</td>\n",
       "      <td>[-0.082629226, -0.044056986, -0.059876796, 0.0...</td>\n",
       "      <td>0.864564</td>\n",
       "    </tr>\n",
       "    <tr>\n",
       "      <th>1</th>\n",
       "      <td>submission</td>\n",
       "      <td>2023-03-31T09:00:33</td>\n",
       "      <td>127kqyb</td>\n",
       "      <td>t3_127kqyb</td>\n",
       "      <td>1680267633</td>\n",
       "      <td>rabby10</td>\n",
       "      <td>Hot or iced!</td>\n",
       "      <td>/r/starbucksbaristas/comments/127kqyb/what_is_...</td>\n",
       "      <td>What is your favorite way to enjoy a chai?</td>\n",
       "      <td>https://www.reddit.com/r/starbucksbaristas/com...</td>\n",
       "      <td>starbucksbaristas</td>\n",
       "      <td>None</td>\n",
       "      <td>None</td>\n",
       "      <td>None</td>\n",
       "      <td>1</td>\n",
       "      <td>47626</td>\n",
       "      <td>What is your favorite way to enjoy a chai? [SE...</td>\n",
       "      <td>[47627, 47628, 47629, 47630, 47631, 47632, 476...</td>\n",
       "      <td>[-0.069242835, -0.0132296635, -0.029213658, 0....</td>\n",
       "      <td>1.117867</td>\n",
       "    </tr>\n",
       "    <tr>\n",
       "      <th>2</th>\n",
       "      <td>submission</td>\n",
       "      <td>2023-04-21T00:00:23</td>\n",
       "      <td>12tpnpv</td>\n",
       "      <td>t3_12tpnpv</td>\n",
       "      <td>1682049623</td>\n",
       "      <td>black_whitecookie23</td>\n",
       "      <td>Hey there I like the iced chai tea latte but t...</td>\n",
       "      <td>/r/starbucks/comments/12tpnpv/iced_chai_tea_la...</td>\n",
       "      <td>Iced chai tea latte</td>\n",
       "      <td>https://www.reddit.com/r/starbucks/comments/12...</td>\n",
       "      <td>starbucks</td>\n",
       "      <td>None</td>\n",
       "      <td>None</td>\n",
       "      <td>None</td>\n",
       "      <td>0</td>\n",
       "      <td>235168</td>\n",
       "      <td>Iced chai tea latte [SEP] Hey there I like the...</td>\n",
       "      <td>[235169, 235170, 235171, 235172]</td>\n",
       "      <td>[-0.059432235, -0.09943229, -0.04372349, -0.02...</td>\n",
       "      <td>1.124923</td>\n",
       "    </tr>\n",
       "    <tr>\n",
       "      <th>3</th>\n",
       "      <td>submission</td>\n",
       "      <td>2023-04-08T18:30:16</td>\n",
       "      <td>12g0k3f</td>\n",
       "      <td>t3_12g0k3f</td>\n",
       "      <td>1680993016</td>\n",
       "      <td>Outrageous_Ad798</td>\n",
       "      <td>I made a drink for my friend who loves gingerb...</td>\n",
       "      <td>/r/starbucks/comments/12g0k3f/my_best_creation/</td>\n",
       "      <td>My best creation</td>\n",
       "      <td>https://www.reddit.com/r/starbucks/comments/12...</td>\n",
       "      <td>starbucks</td>\n",
       "      <td>None</td>\n",
       "      <td>None</td>\n",
       "      <td>None</td>\n",
       "      <td>0</td>\n",
       "      <td>74149</td>\n",
       "      <td>My best creation [SEP] I made a drink for my f...</td>\n",
       "      <td>[74150, 74151, 74152, 74153, 74154]</td>\n",
       "      <td>[-0.110355295, 0.021308728, 2.632368e-05, -0.0...</td>\n",
       "      <td>1.144603</td>\n",
       "    </tr>\n",
       "  </tbody>\n",
       "</table>\n",
       "</div>"
      ],
      "text/plain": [
       "  aware_post_type     aware_created_ts reddit_id reddit_name  \\\n",
       "0      submission  2023-04-08T09:17:03   12flsj2  t3_12flsj2   \n",
       "1      submission  2023-03-31T09:00:33   127kqyb  t3_127kqyb   \n",
       "2      submission  2023-04-21T00:00:23   12tpnpv  t3_12tpnpv   \n",
       "3      submission  2023-04-08T18:30:16   12g0k3f  t3_12g0k3f   \n",
       "\n",
       "   reddit_created_utc        reddit_author  \\\n",
       "0          1680959823       GeminiDragon60   \n",
       "1          1680267633              rabby10   \n",
       "2          1682049623  black_whitecookie23   \n",
       "3          1680993016     Outrageous_Ad798   \n",
       "\n",
       "                                         reddit_text  \\\n",
       "0  Newbie here. How is a hot Chai latte made? Tha...   \n",
       "1                                       Hot or iced!   \n",
       "2  Hey there I like the iced chai tea latte but t...   \n",
       "3  I made a drink for my friend who loves gingerb...   \n",
       "\n",
       "                                    reddit_permalink  \\\n",
       "0          /r/starbucks/comments/12flsj2/chai_latte/   \n",
       "1  /r/starbucksbaristas/comments/127kqyb/what_is_...   \n",
       "2  /r/starbucks/comments/12tpnpv/iced_chai_tea_la...   \n",
       "3    /r/starbucks/comments/12g0k3f/my_best_creation/   \n",
       "\n",
       "                                 reddit_title  \\\n",
       "0                                  Chai latte   \n",
       "1  What is your favorite way to enjoy a chai?   \n",
       "2                         Iced chai tea latte   \n",
       "3                            My best creation   \n",
       "\n",
       "                                          reddit_url   reddit_subreddit  \\\n",
       "0  https://www.reddit.com/r/starbucks/comments/12...          starbucks   \n",
       "1  https://www.reddit.com/r/starbucksbaristas/com...  starbucksbaristas   \n",
       "2  https://www.reddit.com/r/starbucks/comments/12...          starbucks   \n",
       "3  https://www.reddit.com/r/starbucks/comments/12...          starbucks   \n",
       "\n",
       "  reddit_link_id reddit_parent_id reddit_submission  reddit_subreddit_label  \\\n",
       "0           None             None              None                       0   \n",
       "1           None             None              None                       1   \n",
       "2           None             None              None                       0   \n",
       "3           None             None              None                       0   \n",
       "\n",
       "    index                                     text_and_title  \\\n",
       "0   69813  Chai latte [SEP] Newbie here. How is a hot Cha...   \n",
       "1   47626  What is your favorite way to enjoy a chai? [SE...   \n",
       "2  235168  Iced chai tea latte [SEP] Hey there I like the...   \n",
       "3   74149  My best creation [SEP] I made a drink for my f...   \n",
       "\n",
       "                                     comment_indices  \\\n",
       "0                                            [69814]   \n",
       "1  [47627, 47628, 47629, 47630, 47631, 47632, 476...   \n",
       "2                   [235169, 235170, 235171, 235172]   \n",
       "3                [74150, 74151, 74152, 74153, 74154]   \n",
       "\n",
       "                                              vector  _distance  \n",
       "0  [-0.082629226, -0.044056986, -0.059876796, 0.0...   0.864564  \n",
       "1  [-0.069242835, -0.0132296635, -0.029213658, 0....   1.117867  \n",
       "2  [-0.059432235, -0.09943229, -0.04372349, -0.02...   1.124923  \n",
       "3  [-0.110355295, 0.021308728, 2.632368e-05, -0.0...   1.144603  "
      ]
     },
     "execution_count": 60,
     "metadata": {},
     "output_type": "execute_result"
    }
   ],
   "source": [
    "response = table.search(query).limit(4).to_pandas()\n",
    "response"
   ]
  },
  {
   "cell_type": "code",
   "execution_count": 74,
   "metadata": {},
   "outputs": [
    {
     "name": "stdout",
     "output_type": "stream",
     "text": [
      "Submission title:  Chai latte\n",
      "Submission text Newbie here. How is a hot Chai latte made? Thanks!\n",
      "Comment:\n",
      " 1. Steam 2% milk\n",
      "2. Pump chai: 2/3/4/5 for short/tall/grande/venti \n",
      "3. Fill cup halfway with hot water\n",
      "4. Fill remaining half with steamed milk\n",
      "\n",
      "(https://sbuxdates.com is a great site for checking recipes)\n",
      "\n",
      "Submission title:  What is your favorite way to enjoy a chai?\n",
      "Submission text Hot or iced!\n",
      "Comment:\n",
      " iced with oatmilk and brown sugar\n",
      "\n",
      "Submission title:  Iced chai tea latte\n",
      "Submission text Hey there I like the iced chai tea latte but the chai tea concentrate in stores in so expensive and barely lasts a week. Is there anyway I can make the chai tea at home? Like actual homemade chai tea with spices and tea? Also do you know what brand is the most similar to the Starbucks brand soy milk? Thanks so much!\n",
      "Comment:\n",
      " I mean chai tea is pretty easy to find in the grocery store, or higher end tea suppliers. Just add a fuckton of sugar 🤷‍♀️\n",
      "\n",
      "And Silk is most similar to sbux.\n",
      "\n",
      "Submission title:  My best creation\n",
      "Submission text I made a drink for my friend who loves gingerbread. It is one of my best custom drink I have made so far and I want to share it with everyone. Its a chai with vanilla, brown sugar, cinnamon powder(in the drink) shaken with cinnamon dolce topping.\n",
      "Comment:\n",
      " A blonde shot too and it tastes so much like gingerbread\n",
      "\n"
     ]
    }
   ],
   "source": [
    "for i in range(len(response)):\n",
    "    sub_index = response.loc[i, 'index']\n",
    "    comment_indices = response.loc[i, 'comment_indices']\n",
    "    print('Submission title: ', data.loc[sub_index, 'reddit_title'])\n",
    "    print('Submission text', data.loc[sub_index, 'reddit_text'])\n",
    "    # for j, k in enumerate(comment_indices):\n",
    "    #     print('Comment', j+1, ':\\n', data.loc[k, 'reddit_text'])\n",
    "    print('Comment:\\n', data.loc[comment_indices[0], 'reddit_text'])\n",
    "    print()"
   ]
  },
  {
   "cell_type": "markdown",
   "metadata": {},
   "source": [
    "### Finetune the pretrained model"
   ]
  },
  {
   "cell_type": "code",
   "execution_count": 62,
   "metadata": {},
   "outputs": [],
   "source": [
    "from sentence_transformers import losses\n",
    "from sentence_transformers import InputExample\n",
    "from torch.utils.data import DataLoader"
   ]
  },
  {
   "cell_type": "markdown",
   "metadata": {},
   "source": [
    "Use (text and title, subreddit label) pairs to finetune the model, so that submissions in same subreddit are closer to each other in the embedding."
   ]
  },
  {
   "cell_type": "code",
   "execution_count": 63,
   "metadata": {},
   "outputs": [],
   "source": [
    "train_loss = losses.BatchAllTripletLoss(model=model)\n",
    "train_data = [InputExample(texts=[subs['text_and_title'].iloc[i]], label=subs['reddit_subreddit_label'].iloc[i]) for i in range(len(subs))]\n",
    "train_dataloader = DataLoader(train_data, shuffle=True, batch_size=16)"
   ]
  },
  {
   "cell_type": "code",
   "execution_count": 64,
   "metadata": {},
   "outputs": [
    {
     "data": {
      "application/vnd.jupyter.widget-view+json": {
       "model_id": "25795af6961e465c8bb2c274eeb34995",
       "version_major": 2,
       "version_minor": 0
      },
      "text/plain": [
       "Epoch:   0%|          | 0/1 [00:00<?, ?it/s]"
      ]
     },
     "metadata": {},
     "output_type": "display_data"
    },
    {
     "data": {
      "application/vnd.jupyter.widget-view+json": {
       "model_id": "d3df92b6d4994a75999b679f3fccfbb6",
       "version_major": 2,
       "version_minor": 0
      },
      "text/plain": [
       "Iteration:   0%|          | 0/1289 [00:00<?, ?it/s]"
      ]
     },
     "metadata": {},
     "output_type": "display_data"
    }
   ],
   "source": [
    "model.fit(train_objectives=[(train_dataloader, train_loss)], epochs=1)"
   ]
  },
  {
   "cell_type": "code",
   "execution_count": 65,
   "metadata": {},
   "outputs": [],
   "source": [
    "model.save(path='../model', model_name='finetuned')"
   ]
  },
  {
   "cell_type": "markdown",
   "metadata": {},
   "source": [
    "### KNN with the finetuned embedding"
   ]
  },
  {
   "cell_type": "code",
   "execution_count": 67,
   "metadata": {},
   "outputs": [],
   "source": [
    "model_finetuned = SentenceTransformer(\"../model\", device='mps')\n",
    "\n",
    "vectors_finetuned = model_finetuned.encode(subs['text_and_title'].values.tolist(),\n",
    "                       convert_to_numpy=True,\n",
    "                       normalize_embeddings=True)\n",
    "subs['vector_finetuned'] = vectors_finetuned.tolist()"
   ]
  },
  {
   "cell_type": "code",
   "execution_count": 68,
   "metadata": {},
   "outputs": [
    {
     "name": "stderr",
     "output_type": "stream",
     "text": [
      "[2024-04-19T05:09:00Z WARN  lance::dataset] No existing dataset at /Users/yangxiaoluo/Documents/projects/aware_nlp/code/../.lancedb/reddit_finetuned.lance, it will be created\n"
     ]
    }
   ],
   "source": [
    "table = db.create_table(\"reddit_finetuned\", subs, mode=\"overwrite\")"
   ]
  },
  {
   "cell_type": "code",
   "execution_count": 69,
   "metadata": {},
   "outputs": [],
   "source": [
    "query_string = \"What is chai made of?\" \n",
    "query = model_finetuned.encode(query_string,\n",
    "                       convert_to_numpy=True,\n",
    "                       normalize_embeddings=True).tolist()"
   ]
  },
  {
   "cell_type": "code",
   "execution_count": 70,
   "metadata": {},
   "outputs": [
    {
     "data": {
      "text/html": [
       "<div>\n",
       "<style scoped>\n",
       "    .dataframe tbody tr th:only-of-type {\n",
       "        vertical-align: middle;\n",
       "    }\n",
       "\n",
       "    .dataframe tbody tr th {\n",
       "        vertical-align: top;\n",
       "    }\n",
       "\n",
       "    .dataframe thead th {\n",
       "        text-align: right;\n",
       "    }\n",
       "</style>\n",
       "<table border=\"1\" class=\"dataframe\">\n",
       "  <thead>\n",
       "    <tr style=\"text-align: right;\">\n",
       "      <th></th>\n",
       "      <th>aware_post_type</th>\n",
       "      <th>aware_created_ts</th>\n",
       "      <th>reddit_id</th>\n",
       "      <th>reddit_name</th>\n",
       "      <th>reddit_created_utc</th>\n",
       "      <th>reddit_author</th>\n",
       "      <th>reddit_text</th>\n",
       "      <th>reddit_permalink</th>\n",
       "      <th>reddit_title</th>\n",
       "      <th>reddit_url</th>\n",
       "      <th>...</th>\n",
       "      <th>reddit_link_id</th>\n",
       "      <th>reddit_parent_id</th>\n",
       "      <th>reddit_submission</th>\n",
       "      <th>reddit_subreddit_label</th>\n",
       "      <th>index</th>\n",
       "      <th>text_and_title</th>\n",
       "      <th>comment_indices</th>\n",
       "      <th>vector</th>\n",
       "      <th>vector_finetuned</th>\n",
       "      <th>_distance</th>\n",
       "    </tr>\n",
       "  </thead>\n",
       "  <tbody>\n",
       "    <tr>\n",
       "      <th>0</th>\n",
       "      <td>submission</td>\n",
       "      <td>2023-04-08T09:17:03</td>\n",
       "      <td>12flsj2</td>\n",
       "      <td>t3_12flsj2</td>\n",
       "      <td>1680959823</td>\n",
       "      <td>GeminiDragon60</td>\n",
       "      <td>Newbie here. How is a hot Chai latte made? Tha...</td>\n",
       "      <td>/r/starbucks/comments/12flsj2/chai_latte/</td>\n",
       "      <td>Chai latte</td>\n",
       "      <td>https://www.reddit.com/r/starbucks/comments/12...</td>\n",
       "      <td>...</td>\n",
       "      <td>None</td>\n",
       "      <td>None</td>\n",
       "      <td>None</td>\n",
       "      <td>0</td>\n",
       "      <td>69813</td>\n",
       "      <td>Chai latte [SEP] Newbie here. How is a hot Cha...</td>\n",
       "      <td>[69814]</td>\n",
       "      <td>[-0.082629226, -0.044056986, -0.059876796, 0.0...</td>\n",
       "      <td>[-0.07382379472255707, -0.06260678172111511, -...</td>\n",
       "      <td>0.854807</td>\n",
       "    </tr>\n",
       "    <tr>\n",
       "      <th>1</th>\n",
       "      <td>submission</td>\n",
       "      <td>2023-03-31T09:00:33</td>\n",
       "      <td>127kqyb</td>\n",
       "      <td>t3_127kqyb</td>\n",
       "      <td>1680267633</td>\n",
       "      <td>rabby10</td>\n",
       "      <td>Hot or iced!</td>\n",
       "      <td>/r/starbucksbaristas/comments/127kqyb/what_is_...</td>\n",
       "      <td>What is your favorite way to enjoy a chai?</td>\n",
       "      <td>https://www.reddit.com/r/starbucksbaristas/com...</td>\n",
       "      <td>...</td>\n",
       "      <td>None</td>\n",
       "      <td>None</td>\n",
       "      <td>None</td>\n",
       "      <td>1</td>\n",
       "      <td>47626</td>\n",
       "      <td>What is your favorite way to enjoy a chai? [SE...</td>\n",
       "      <td>[47627, 47628, 47629, 47630, 47631, 47632, 476...</td>\n",
       "      <td>[-0.069242835, -0.0132296635, -0.029213658, 0....</td>\n",
       "      <td>[-0.04132311791181564, -0.016466502100229263, ...</td>\n",
       "      <td>1.050847</td>\n",
       "    </tr>\n",
       "    <tr>\n",
       "      <th>2</th>\n",
       "      <td>submission</td>\n",
       "      <td>2023-04-11T21:00:12</td>\n",
       "      <td>12j4gjk</td>\n",
       "      <td>t3_12j4gjk</td>\n",
       "      <td>1681261212</td>\n",
       "      <td>nicolelynnejones</td>\n",
       "      <td>None</td>\n",
       "      <td>/r/starbucksbaristas/comments/12j4gjk/iced_cha...</td>\n",
       "      <td>iced chai custies ♥️🫶🏻😭</td>\n",
       "      <td>https://i.redd.it/83iq8ker8eta1.jpg</td>\n",
       "      <td>...</td>\n",
       "      <td>None</td>\n",
       "      <td>None</td>\n",
       "      <td>None</td>\n",
       "      <td>1</td>\n",
       "      <td>88998</td>\n",
       "      <td>iced chai custies ♥️🫶🏻😭 [SEP]</td>\n",
       "      <td>[88999, 89000, 89001]</td>\n",
       "      <td>[-0.114683196, -0.013103594, -0.013807522, 0.0...</td>\n",
       "      <td>[-0.08317598700523376, -0.022117894142866135, ...</td>\n",
       "      <td>1.086236</td>\n",
       "    </tr>\n",
       "    <tr>\n",
       "      <th>3</th>\n",
       "      <td>submission</td>\n",
       "      <td>2023-04-21T00:00:23</td>\n",
       "      <td>12tpnpv</td>\n",
       "      <td>t3_12tpnpv</td>\n",
       "      <td>1682049623</td>\n",
       "      <td>black_whitecookie23</td>\n",
       "      <td>Hey there I like the iced chai tea latte but t...</td>\n",
       "      <td>/r/starbucks/comments/12tpnpv/iced_chai_tea_la...</td>\n",
       "      <td>Iced chai tea latte</td>\n",
       "      <td>https://www.reddit.com/r/starbucks/comments/12...</td>\n",
       "      <td>...</td>\n",
       "      <td>None</td>\n",
       "      <td>None</td>\n",
       "      <td>None</td>\n",
       "      <td>0</td>\n",
       "      <td>235168</td>\n",
       "      <td>Iced chai tea latte [SEP] Hey there I like the...</td>\n",
       "      <td>[235169, 235170, 235171, 235172]</td>\n",
       "      <td>[-0.059432235, -0.09943229, -0.04372349, -0.02...</td>\n",
       "      <td>[-0.046944793313741684, -0.1008346751332283, -...</td>\n",
       "      <td>1.087873</td>\n",
       "    </tr>\n",
       "  </tbody>\n",
       "</table>\n",
       "<p>4 rows × 21 columns</p>\n",
       "</div>"
      ],
      "text/plain": [
       "  aware_post_type     aware_created_ts reddit_id reddit_name  \\\n",
       "0      submission  2023-04-08T09:17:03   12flsj2  t3_12flsj2   \n",
       "1      submission  2023-03-31T09:00:33   127kqyb  t3_127kqyb   \n",
       "2      submission  2023-04-11T21:00:12   12j4gjk  t3_12j4gjk   \n",
       "3      submission  2023-04-21T00:00:23   12tpnpv  t3_12tpnpv   \n",
       "\n",
       "   reddit_created_utc        reddit_author  \\\n",
       "0          1680959823       GeminiDragon60   \n",
       "1          1680267633              rabby10   \n",
       "2          1681261212     nicolelynnejones   \n",
       "3          1682049623  black_whitecookie23   \n",
       "\n",
       "                                         reddit_text  \\\n",
       "0  Newbie here. How is a hot Chai latte made? Tha...   \n",
       "1                                       Hot or iced!   \n",
       "2                                               None   \n",
       "3  Hey there I like the iced chai tea latte but t...   \n",
       "\n",
       "                                    reddit_permalink  \\\n",
       "0          /r/starbucks/comments/12flsj2/chai_latte/   \n",
       "1  /r/starbucksbaristas/comments/127kqyb/what_is_...   \n",
       "2  /r/starbucksbaristas/comments/12j4gjk/iced_cha...   \n",
       "3  /r/starbucks/comments/12tpnpv/iced_chai_tea_la...   \n",
       "\n",
       "                                 reddit_title  \\\n",
       "0                                  Chai latte   \n",
       "1  What is your favorite way to enjoy a chai?   \n",
       "2                     iced chai custies ♥️🫶🏻😭   \n",
       "3                         Iced chai tea latte   \n",
       "\n",
       "                                          reddit_url  ... reddit_link_id  \\\n",
       "0  https://www.reddit.com/r/starbucks/comments/12...  ...           None   \n",
       "1  https://www.reddit.com/r/starbucksbaristas/com...  ...           None   \n",
       "2                https://i.redd.it/83iq8ker8eta1.jpg  ...           None   \n",
       "3  https://www.reddit.com/r/starbucks/comments/12...  ...           None   \n",
       "\n",
       "  reddit_parent_id reddit_submission reddit_subreddit_label   index  \\\n",
       "0             None              None                      0   69813   \n",
       "1             None              None                      1   47626   \n",
       "2             None              None                      1   88998   \n",
       "3             None              None                      0  235168   \n",
       "\n",
       "                                      text_and_title  \\\n",
       "0  Chai latte [SEP] Newbie here. How is a hot Cha...   \n",
       "1  What is your favorite way to enjoy a chai? [SE...   \n",
       "2                     iced chai custies ♥️🫶🏻😭 [SEP]    \n",
       "3  Iced chai tea latte [SEP] Hey there I like the...   \n",
       "\n",
       "                                     comment_indices  \\\n",
       "0                                            [69814]   \n",
       "1  [47627, 47628, 47629, 47630, 47631, 47632, 476...   \n",
       "2                              [88999, 89000, 89001]   \n",
       "3                   [235169, 235170, 235171, 235172]   \n",
       "\n",
       "                                              vector  \\\n",
       "0  [-0.082629226, -0.044056986, -0.059876796, 0.0...   \n",
       "1  [-0.069242835, -0.0132296635, -0.029213658, 0....   \n",
       "2  [-0.114683196, -0.013103594, -0.013807522, 0.0...   \n",
       "3  [-0.059432235, -0.09943229, -0.04372349, -0.02...   \n",
       "\n",
       "                                    vector_finetuned _distance  \n",
       "0  [-0.07382379472255707, -0.06260678172111511, -...  0.854807  \n",
       "1  [-0.04132311791181564, -0.016466502100229263, ...  1.050847  \n",
       "2  [-0.08317598700523376, -0.022117894142866135, ...  1.086236  \n",
       "3  [-0.046944793313741684, -0.1008346751332283, -...  1.087873  \n",
       "\n",
       "[4 rows x 21 columns]"
      ]
     },
     "execution_count": 70,
     "metadata": {},
     "output_type": "execute_result"
    }
   ],
   "source": [
    "response2 = table.search(query).limit(4).to_pandas()\n",
    "response2"
   ]
  },
  {
   "cell_type": "code",
   "execution_count": 73,
   "metadata": {},
   "outputs": [
    {
     "name": "stdout",
     "output_type": "stream",
     "text": [
      "Submission title:  Chai latte\n",
      "Submission text: Newbie here. How is a hot Chai latte made? Thanks!\n",
      "Comment:\n",
      " 1. Steam 2% milk\n",
      "2. Pump chai: 2/3/4/5 for short/tall/grande/venti \n",
      "3. Fill cup halfway with hot water\n",
      "4. Fill remaining half with steamed milk\n",
      "\n",
      "(https://sbuxdates.com is a great site for checking recipes)\n",
      "\n",
      "Submission title:  What is your favorite way to enjoy a chai?\n",
      "Submission text: Hot or iced!\n",
      "Comment:\n",
      " iced with oatmilk and brown sugar\n",
      "\n",
      "Submission title:  Iced chai tea latte\n",
      "Submission text: Hey there I like the iced chai tea latte but the chai tea concentrate in stores in so expensive and barely lasts a week. Is there anyway I can make the chai tea at home? Like actual homemade chai tea with spices and tea? Also do you know what brand is the most similar to the Starbucks brand soy milk? Thanks so much!\n",
      "Comment:\n",
      " I mean chai tea is pretty easy to find in the grocery store, or higher end tea suppliers. Just add a fuckton of sugar 🤷‍♀️\n",
      "\n",
      "And Silk is most similar to sbux.\n",
      "\n",
      "Submission title:  My best creation\n",
      "Submission text: I made a drink for my friend who loves gingerbread. It is one of my best custom drink I have made so far and I want to share it with everyone. Its a chai with vanilla, brown sugar, cinnamon powder(in the drink) shaken with cinnamon dolce topping.\n",
      "Comment:\n",
      " A blonde shot too and it tastes so much like gingerbread\n",
      "\n"
     ]
    }
   ],
   "source": [
    "for i in range(len(response2)):\n",
    "    sub_index = response.loc[i, 'index']\n",
    "    comment_indices = response.loc[i, 'comment_indices']\n",
    "    print('Submission title: ', data.loc[sub_index, 'reddit_title'])\n",
    "    print('Submission text:', data.loc[sub_index, 'reddit_text'])\n",
    "    # for j, k in enumerate(comment_indices):\n",
    "    #     print('Comment', j+1, ':\\n', data.loc[k, 'reddit_text'])\n",
    "    print('Comment:\\n', data.loc[comment_indices[0], 'reddit_text'])\n",
    "    print()"
   ]
  }
 ],
 "metadata": {
  "kernelspec": {
   "display_name": "aware_nlp",
   "language": "python",
   "name": "python3"
  },
  "language_info": {
   "codemirror_mode": {
    "name": "ipython",
    "version": 3
   },
   "file_extension": ".py",
   "mimetype": "text/x-python",
   "name": "python",
   "nbconvert_exporter": "python",
   "pygments_lexer": "ipython3",
   "version": "3.12.2"
  }
 },
 "nbformat": 4,
 "nbformat_minor": 2
}
